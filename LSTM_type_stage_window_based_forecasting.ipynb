{
 "cells": [
  {
   "cell_type": "markdown",
   "metadata": {},
   "source": [
    "# README\n",
    "\n",
    "* For each observation, divid the sequence to a list of sequences of the same size using a moving window of a fixed size with a given step."
   ]
  },
  {
   "cell_type": "code",
   "execution_count": 73,
   "metadata": {},
   "outputs": [],
   "source": [
    "%matplotlib inline\n",
    "from keras.models import Sequential\n",
    "from keras.layers import LSTM, Dense\n",
    "from keras.models import model_from_json\n",
    "from keras.utils import to_categorical\n",
    "from keras.callbacks import ModelCheckpoint\n",
    "import numpy as np\n",
    "import pandas as pd\n",
    "import glob\n",
    "import matplotlib.pyplot as plt"
   ]
  },
  {
   "cell_type": "code",
   "execution_count": 2,
   "metadata": {},
   "outputs": [],
   "source": [
    "original_features=['scalar.fx', 'scalar.fy', 'scalar.fz','scalar.tx', 'scalar.ty','scalar.tz','scalar.current','scalar.ang_vel']"
   ]
  },
  {
   "cell_type": "markdown",
   "metadata": {},
   "source": [
    "# Load data"
   ]
  },
  {
   "cell_type": "code",
   "execution_count": 3,
   "metadata": {},
   "outputs": [
    {
     "name": "stdout",
     "output_type": "stream",
     "text": [
      "CPU times: user 13.5 s, sys: 676 ms, total: 14.2 s\n",
      "Wall time: 14.2 s\n"
     ]
    }
   ],
   "source": [
    "%%time\n",
    "dfs = [pd.read_csv(filename, sep=',',header=0) for filename in glob.glob(\"data/*.csv\")]"
   ]
  },
  {
   "cell_type": "markdown",
   "metadata": {},
   "source": [
    "## Get the longest and shortest sequences"
   ]
  },
  {
   "cell_type": "code",
   "execution_count": 4,
   "metadata": {},
   "outputs": [
    {
     "name": "stdout",
     "output_type": "stream",
     "text": [
      "shortest_len=535, longest_len=4479\n"
     ]
    }
   ],
   "source": [
    "longest_len = max(dfs, key=lambda df: df.shape[0]).shape[0]\n",
    "shortest_len = min(dfs, key=lambda df: df.shape[0]).shape[0]\n",
    "print(\"shortest_len={}, longest_len={}\".format( shortest_len, longest_len) )"
   ]
  },
  {
   "cell_type": "markdown",
   "metadata": {},
   "source": [
    "# Create windows\n",
    "\n",
    "* Windows are equal length comprising of N, eg. 32, time frames.\n",
    "* A wavelet is obtained by using a moving window of length N.\n",
    "* The beginning of the moving window starts M, e.g. 8, time frames behind the beginning of the previous window."
   ]
  },
  {
   "cell_type": "code",
   "execution_count": 5,
   "metadata": {},
   "outputs": [],
   "source": [
    "def rolling(df, original_features=original_features, \n",
    "            frames=32, steps=8, type_class='class.type', stage_class='class.stage'):\n",
    "    \"\"\"\n",
    "    df - dataframe\n",
    "    \"\"\"\n",
    "    starts = np.arange(0, len(df)-frames, steps)[:-1] # an array of start locations    \n",
    "    x = np.zeros((len(starts), frames, len(original_features)))\n",
    "    y = np.zeros((len(starts), 1))\n",
    "    y2 = np.zeros((len(starts), 1))\n",
    "    \n",
    "    for i in np.arange(len(starts)):\n",
    "        start = starts[i]\n",
    "        x[i] = df.iloc[start:start+frames].as_matrix(columns=original_features)\n",
    "        y[i] = df[type_class].iloc[start + steps]\n",
    "        y2[i] = df[stage_class].iloc[start + steps]\n",
    "\n",
    "    return x, y, y2"
   ]
  },
  {
   "cell_type": "code",
   "execution_count": 6,
   "metadata": {},
   "outputs": [],
   "source": [
    "def moving_windows(dfs, frames=32, steps=8):\n",
    "    \"\"\"split each observation to a tuple of X, Y, Y2 using a moving window\"\"\"\n",
    "\n",
    "    X=None; Y=None; Y2=None\n",
    "    for df in dfs:\n",
    "        x, y, y2 = rolling(df, original_features,frames, steps)\n",
    "        if X is None:\n",
    "            X = x.copy(); Y = y.copy(); Y2 = y2.copy();\n",
    "        else:\n",
    "            X = np.append(X, x, axis=0)\n",
    "            Y = np.append(Y, y, axis=0)\n",
    "            Y2= np.append(Y2, y2, axis=0)\n",
    "    return X, Y, Y2"
   ]
  },
  {
   "cell_type": "markdown",
   "metadata": {},
   "source": [
    "## save or load window-based data"
   ]
  },
  {
   "cell_type": "code",
   "execution_count": 7,
   "metadata": {
    "scrolled": true
   },
   "outputs": [
    {
     "name": "stdout",
     "output_type": "stream",
     "text": [
      "CPU times: user 4.21 s, sys: 222 ms, total: 4.43 s\n",
      "Wall time: 4.43 s\n"
     ]
    }
   ],
   "source": [
    "%%time\n",
    "frames = 32\n",
    "steps = 8\n",
    "\n",
    "import os.path\n",
    "file_path = 'data_win/f32s8.npz'\n",
    "if os.path.exists(file_path):\n",
    "    loaded = np.load(file_path)\n",
    "    X = loaded['X']\n",
    "    Y = loaded['Y']\n",
    "    Y2 = loaded['Y2']\n",
    "else:\n",
    "    X, Y, Y2 = moving_windows(dfs, frames, steps)\n",
    "    np.savez_compressed(file_path, X=X, Y=Y, Y2=Y2)"
   ]
  },
  {
   "cell_type": "markdown",
   "metadata": {},
   "source": [
    "#### Plot a histogram of types"
   ]
  },
  {
   "cell_type": "code",
   "execution_count": 8,
   "metadata": {},
   "outputs": [
    {
     "data": {
      "text/plain": [
       "(array([      0.,  433720.,   82458.,   21594.,    3516.,    2264.,\n",
       "           6397.,    3243.]),\n",
       " array([0, 1, 2, 3, 4, 5, 6, 7, 8]),\n",
       " <a list of 8 Patch objects>)"
      ]
     },
     "execution_count": 8,
     "metadata": {},
     "output_type": "execute_result"
    },
    {
     "data": {
      "image/png": "[encoded data removed]",
      "text/plain": [
       "<matplotlib.figure.Figure at 0x7fa57e5c4f10>"
      ]
     },
     "metadata": {},
     "output_type": "display_data"
    }
   ],
   "source": [
    "plt.hist(Y, bins=np.arange(len(np.unique(Y))+2), rwidth=.7, align='mid')"
   ]
  },
  {
   "cell_type": "code",
   "execution_count": 9,
   "metadata": {},
   "outputs": [
    {
     "data": {
      "text/plain": [
       "array([ 1.,  2.,  3.,  4.,  5.,  6.,  7.])"
      ]
     },
     "execution_count": 9,
     "metadata": {},
     "output_type": "execute_result"
    }
   ],
   "source": [
    "np.unique(Y)"
   ]
  },
  {
   "cell_type": "markdown",
   "metadata": {},
   "source": [
    "#### Plot a histogram of stages"
   ]
  },
  {
   "cell_type": "code",
   "execution_count": 10,
   "metadata": {},
   "outputs": [
    {
     "data": {
      "text/plain": [
       "(array([  42954.,   24250.,   30095.,   76401.,  322035.,   10290.,\n",
       "           2103.,     952.,    2786.,   41326.]),\n",
       " array([ 0,  1,  2,  3,  4,  5,  6,  7,  8,  9, 10]),\n",
       " <a list of 10 Patch objects>)"
      ]
     },
     "execution_count": 10,
     "metadata": {},
     "output_type": "execute_result"
    },
    {
     "data": {
      "image/png": "[encoded data removed]",
      "text/plain": [
       "<matplotlib.figure.Figure at 0x7fa4f9782550>"
      ]
     },
     "metadata": {},
     "output_type": "display_data"
    }
   ],
   "source": [
    "plt.hist(Y2, bins=np.arange(len(np.unique(Y2))+1), rwidth=.7, align='mid')"
   ]
  },
  {
   "cell_type": "code",
   "execution_count": 11,
   "metadata": {},
   "outputs": [
    {
     "data": {
      "text/plain": [
       "array([ 0.,  1.,  2.,  3.,  4.,  5.,  6.,  7.,  8.,  9.])"
      ]
     },
     "execution_count": 11,
     "metadata": {},
     "output_type": "execute_result"
    }
   ],
   "source": [
    "np.unique(Y2)"
   ]
  },
  {
   "cell_type": "markdown",
   "metadata": {},
   "source": [
    "# One hot encoding of dependent variables"
   ]
  },
  {
   "cell_type": "code",
   "execution_count": 12,
   "metadata": {
    "scrolled": true
   },
   "outputs": [
    {
     "data": {
      "text/plain": [
       "(553192, 7)"
      ]
     },
     "execution_count": 12,
     "metadata": {},
     "output_type": "execute_result"
    }
   ],
   "source": [
    "offset = 1\n",
    "num_classes = len(np.unique(Y))\n",
    "Y_encoded=to_categorical(Y-offset, num_classes=num_classes)\n",
    "Y_encoded.shape"
   ]
  },
  {
   "cell_type": "code",
   "execution_count": 13,
   "metadata": {},
   "outputs": [
    {
     "data": {
      "text/plain": [
       "(553192, 10)"
      ]
     },
     "execution_count": 13,
     "metadata": {},
     "output_type": "execute_result"
    }
   ],
   "source": [
    "offset = 0\n",
    "num_classes = len(np.unique(Y2))\n",
    "Y2_encoded=to_categorical(Y2, num_classes=num_classes)\n",
    "Y2_encoded.shape"
   ]
  },
  {
   "cell_type": "markdown",
   "metadata": {},
   "source": [
    "# Split the data to train, validation and test\n",
    "\n",
    "* train = 60%\n",
    "* validation = 20%\n",
    "* test = 20%"
   ]
  },
  {
   "cell_type": "code",
   "execution_count": 14,
   "metadata": {
    "scrolled": true
   },
   "outputs": [
    {
     "name": "stdout",
     "output_type": "stream",
     "text": [
      "((331915, 32, 8), (331915, 7), (331915, 10))\n",
      "((110638, 32, 8), (110638, 7), (110638, 10))\n",
      "((110639, 32, 8), (110639, 7), (110639, 10))\n"
     ]
    }
   ],
   "source": [
    "x_train, x_validate, x_test = np.split(X, [int(.6*len(X)), int(.8*len(X))])\n",
    "y_train, y_validate, y_test = np.split(Y_encoded, [int(.6*len(Y_encoded)), int(.8*len(Y_encoded))])\n",
    "y2_train, y2_validate, y2_test = np.split(Y2_encoded, [int(.6*len(Y2_encoded)), int(.8*len(Y2_encoded))])\n",
    "\n",
    "print (x_train.shape, y_train.shape, y2_train.shape)\n",
    "print (x_validate.shape, y_validate.shape, y2_validate.shape)\n",
    "print (x_test.shape, y_test.shape, y2_test.shape)"
   ]
  },
  {
   "cell_type": "markdown",
   "metadata": {},
   "source": [
    "### Histogram of classes in training data"
   ]
  },
  {
   "cell_type": "code",
   "execution_count": 15,
   "metadata": {},
   "outputs": [
    {
     "data": {
      "text/plain": [
       "(array([ 259741.,   47704.,   13477.,    2275.,    1808.,    4118.,    2792.]),\n",
       " array([0, 1, 2, 3, 4, 5, 6, 7]),\n",
       " <a list of 7 Patch objects>)"
      ]
     },
     "execution_count": 15,
     "metadata": {},
     "output_type": "execute_result"
    },
    {
     "data": {
      "image/png": "[encoded data removed]",
      "text/plain": [
       "<matplotlib.figure.Figure at 0x7fa4f4ed7310>"
      ]
     },
     "metadata": {},
     "output_type": "display_data"
    }
   ],
   "source": [
    "labels=np.argmax(y_train, axis=1)\n",
    "plt.hist(labels, bins=np.arange(len(np.unique(labels))+1), rwidth=.7, align='mid')"
   ]
  },
  {
   "cell_type": "code",
   "execution_count": 44,
   "metadata": {},
   "outputs": [
    {
     "data": {
      "text/plain": [
       "(array([  25840.,   15718.,   18270.,   43892.,  193170.,    6269.,\n",
       "           1670.,     605.,    1739.,   24742.]),\n",
       " array([ 0,  1,  2,  3,  4,  5,  6,  7,  8,  9, 10]),\n",
       " <a list of 10 Patch objects>)"
      ]
     },
     "execution_count": 44,
     "metadata": {},
     "output_type": "execute_result"
    },
    {
     "data": {
      "image/png": "[encoded data removed]",
      "text/plain": [
       "<matplotlib.figure.Figure at 0x7fa4d1378cd0>"
      ]
     },
     "metadata": {},
     "output_type": "display_data"
    }
   ],
   "source": [
    "labels=np.argmax(y2_train, axis=1)\n",
    "plt.hist(labels, bins=np.arange(len(np.unique(labels))+1), rwidth=.7, align='mid')"
   ]
  },
  {
   "cell_type": "markdown",
   "metadata": {},
   "source": [
    "# Train a type classification model with LSTM"
   ]
  },
  {
   "cell_type": "code",
   "execution_count": 74,
   "metadata": {
    "scrolled": true
   },
   "outputs": [
    {
     "name": "stdout",
     "output_type": "stream",
     "text": [
      "Train on 331915 samples, validate on 110638 samples\n",
      "Epoch 1/7\n",
      "331904/331915 [============================>.] - ETA: 0s - loss: 0.2619 - acc: 0.9207Epoch 00001: val_acc improved from -inf to 0.87994, saving model to models/type_lstm_v2.h5\n",
      "331915/331915 [==============================] - 377s 1ms/step - loss: 0.2619 - acc: 0.9207 - val_loss: 0.4437 - val_acc: 0.8799\n",
      "Epoch 2/7\n",
      "331904/331915 [============================>.] - ETA: 0s - loss: 0.1762 - acc: 0.9485Epoch 00002: val_acc improved from 0.87994 to 0.90714, saving model to models/type_lstm_v2.h5\n",
      "331915/331915 [==============================] - 375s 1ms/step - loss: 0.1762 - acc: 0.9485 - val_loss: 0.3585 - val_acc: 0.9071\n",
      "Epoch 3/7\n",
      "331904/331915 [============================>.] - ETA: 0s - loss: 0.1534 - acc: 0.9558Epoch 00003: val_acc did not improve\n",
      "331915/331915 [==============================] - 375s 1ms/step - loss: 0.1534 - acc: 0.9558 - val_loss: 0.4484 - val_acc: 0.9016\n",
      "Epoch 4/7\n",
      "331904/331915 [============================>.] - ETA: 0s - loss: 0.1431 - acc: 0.9591Epoch 00004: val_acc did not improve\n",
      "331915/331915 [==============================] - 376s 1ms/step - loss: 0.1431 - acc: 0.9591 - val_loss: 0.4799 - val_acc: 0.8975\n",
      "Epoch 5/7\n",
      "331904/331915 [============================>.] - ETA: 0s - loss: 0.1377 - acc: 0.9604Epoch 00005: val_acc did not improve\n",
      "331915/331915 [==============================] - 379s 1ms/step - loss: 0.1377 - acc: 0.9604 - val_loss: 0.4524 - val_acc: 0.9068\n",
      "Epoch 6/7\n",
      "331904/331915 [============================>.] - ETA: 0s - loss: 0.1339 - acc: 0.9616Epoch 00006: val_acc did not improve\n",
      "331915/331915 [==============================] - 382s 1ms/step - loss: 0.1339 - acc: 0.9616 - val_loss: 0.5048 - val_acc: 0.9015\n",
      "Epoch 7/7\n",
      "331904/331915 [============================>.] - ETA: 0s - loss: 0.1303 - acc: 0.9628Epoch 00007: val_acc did not improve\n",
      "331915/331915 [==============================] - 379s 1ms/step - loss: 0.1303 - acc: 0.9628 - val_loss: 0.5250 - val_acc: 0.9005\n",
      "CPU times: user 1h 7min 53s, sys: 4min 59s, total: 1h 12min 53s\n",
      "Wall time: 44min 4s\n"
     ]
    }
   ],
   "source": [
    "%%time\n",
    "\n",
    "timesteps = x_train.shape[1]\n",
    "data_dim = x_train.shape[2]\n",
    "num_epochs = 7\n",
    "batch_size = 64\n",
    "num_classes = y_train.shape[1]\n",
    "\n",
    "layers = [LSTM(batch_size, return_sequences=True,\n",
    "               input_shape=(timesteps, data_dim)), \n",
    "         LSTM(batch_size, return_sequences=True),\n",
    "         LSTM(batch_size),\n",
    "         Dense(num_classes, activation='softmax')]\n",
    "\n",
    "# expected input data shape: (batch_size, timesteps, data_dim)\n",
    "model = Sequential(layers)\n",
    "\n",
    "model.compile(loss='categorical_crossentropy',\n",
    "              optimizer='rmsprop',\n",
    "              metrics=['accuracy'])\n",
    "\n",
    "# checkpoint\n",
    "filepath=\"models/type_lstm_v2.h5\"\n",
    "checkpoint = ModelCheckpoint(filepath, monitor='val_acc', verbose=1, save_best_only=True, mode='max')\n",
    "callbacks_list = [checkpoint]\n",
    "\n",
    "history = model.fit(x_train, y_train,\n",
    "                    batch_size=batch_size, epochs=num_epochs,\n",
    "                    validation_data=(x_validate, y_validate),\n",
    "                    callbacks=callbacks_list)"
   ]
  },
  {
   "cell_type": "markdown",
   "metadata": {},
   "source": [
    "## View training history"
   ]
  },
  {
   "cell_type": "code",
   "execution_count": 75,
   "metadata": {},
   "outputs": [],
   "source": [
    "def plot_history(history):\n",
    "    # summarize history for accuracy\n",
    "    plt.plot(history.history['acc'])\n",
    "    plt.plot(history.history['val_acc'])\n",
    "    plt.title('model accuracy')\n",
    "    plt.ylabel('accuracy')\n",
    "    plt.xlabel('epoch')\n",
    "    plt.legend(['train', 'validate'], loc='upper left')\n",
    "    plt.show()\n",
    "    \n",
    "    # summarize history for loss\n",
    "    plt.plot(history.history['loss'])\n",
    "    plt.plot(history.history['val_loss'])\n",
    "    plt.title('model loss')\n",
    "    plt.ylabel('loss')\n",
    "    plt.xlabel('epoch')\n",
    "    plt.legend(['train', 'validate'], loc='upper left')\n",
    "    plt.show()"
   ]
  },
  {
   "cell_type": "code",
   "execution_count": 76,
   "metadata": {},
   "outputs": [
    {
     "data": {
      "image/png": "[encoded data removed]",
      "text/plain": [
       "<matplotlib.figure.Figure at 0x7fa4a8e456d0>"
      ]
     },
     "metadata": {},
     "output_type": "display_data"
    },
    {
     "data": {
      "image/png": "[encoded data removed]",
      "text/plain": [
       "<matplotlib.figure.Figure at 0x7fa4aa08f3d0>"
      ]
     },
     "metadata": {},
     "output_type": "display_data"
    }
   ],
   "source": [
    "plot_history(history)"
   ]
  },
  {
   "cell_type": "markdown",
   "metadata": {},
   "source": [
    "## Save the model\n",
    "include the model and its weights"
   ]
  },
  {
   "cell_type": "code",
   "execution_count": 70,
   "metadata": {},
   "outputs": [],
   "source": [
    "def save_model(model, model_filename=\"models/type_lstm_v2.json\", weights_file_name=None):\n",
    "    # serialize model to JSON\n",
    "    model_json = model.to_json()\n",
    "    with open(model_filename, \"w\") as json_file:\n",
    "        json_file.write(model_json)\n",
    "    print(\"Saved the model to disk\")    \n",
    "    \n",
    "    # serialize weights to HDF5\n",
    "    if weights_file_name is not None:\n",
    "        model.save_weights(weights_file_name)\n",
    "        print(\"Saved the model weights to disk\")"
   ]
  },
  {
   "cell_type": "code",
   "execution_count": 71,
   "metadata": {},
   "outputs": [
    {
     "name": "stdout",
     "output_type": "stream",
     "text": [
      "Saved the model to disk\n"
     ]
    }
   ],
   "source": [
    "save_model(model, \"models/type_lstm_v2.json\")"
   ]
  },
  {
   "cell_type": "markdown",
   "metadata": {},
   "source": [
    "## Use the saved model to predict on new data"
   ]
  },
  {
   "cell_type": "code",
   "execution_count": 77,
   "metadata": {},
   "outputs": [],
   "source": [
    "def load_model(model_filename='models/type_lstm_v2.json', weights_filename=\"models/type_lstm_v2.h5\"):\n",
    "    # load json and create model\n",
    "    json_file = open(model_filename, 'r')\n",
    "    loaded_model_json = json_file.read()\n",
    "    json_file.close()\n",
    "    loaded_model = model_from_json(loaded_model_json)\n",
    "    # load weights into new model\n",
    "    loaded_model.load_weights(weights_filename)\n",
    "    print(\"Loaded the model from disk\")\n",
    "    \n",
    "    return loaded_model"
   ]
  },
  {
   "cell_type": "code",
   "execution_count": 78,
   "metadata": {},
   "outputs": [
    {
     "name": "stdout",
     "output_type": "stream",
     "text": [
      "Loaded the model from disk\n"
     ]
    }
   ],
   "source": [
    "model = load_model('models/type_lstm_v2.json', \"models/type_lstm_v2.h5\")"
   ]
  },
  {
   "cell_type": "markdown",
   "metadata": {},
   "source": [
    "## We need to compile the model before use it"
   ]
  },
  {
   "cell_type": "code",
   "execution_count": 79,
   "metadata": {},
   "outputs": [],
   "source": [
    "model.compile(loss='categorical_crossentropy',\n",
    "              optimizer='rmsprop',\n",
    "              metrics=['accuracy'])"
   ]
  },
  {
   "cell_type": "markdown",
   "metadata": {},
   "source": [
    "## Evaluation"
   ]
  },
  {
   "cell_type": "markdown",
   "metadata": {},
   "source": [
    "display labels for the scalar outputs"
   ]
  },
  {
   "cell_type": "code",
   "execution_count": 80,
   "metadata": {},
   "outputs": [
    {
     "data": {
      "text/plain": [
       "['loss', 'acc']"
      ]
     },
     "execution_count": 80,
     "metadata": {},
     "output_type": "execute_result"
    }
   ],
   "source": [
    "model.metrics_names"
   ]
  },
  {
   "cell_type": "code",
   "execution_count": 81,
   "metadata": {},
   "outputs": [
    {
     "name": "stdout",
     "output_type": "stream",
     "text": [
      "110639/110639 [==============================] - 29s 258us/step\n"
     ]
    }
   ],
   "source": [
    "score = model.evaluate(x_test, y_test, batch_size=64)"
   ]
  },
  {
   "cell_type": "code",
   "execution_count": 82,
   "metadata": {},
   "outputs": [
    {
     "data": {
      "text/plain": [
       "[0.49502641845624379, 0.88362150778766269]"
      ]
     },
     "execution_count": 82,
     "metadata": {},
     "output_type": "execute_result"
    }
   ],
   "source": [
    "score"
   ]
  },
  {
   "cell_type": "markdown",
   "metadata": {},
   "source": [
    "## Predict\n",
    "\n",
    "**Remember** The classes are 0 to 6 instead of 1 to 7."
   ]
  },
  {
   "cell_type": "code",
   "execution_count": 83,
   "metadata": {},
   "outputs": [
    {
     "name": "stdout",
     "output_type": "stream",
     "text": [
      "CPU times: user 55.8 s, sys: 818 ms, total: 56.6 s\n",
      "Wall time: 52.7 s\n"
     ]
    }
   ],
   "source": [
    "%%time\n",
    "y_hat = model.predict(x_test)"
   ]
  },
  {
   "cell_type": "code",
   "execution_count": 84,
   "metadata": {},
   "outputs": [
    {
     "data": {
      "text/plain": [
       "(110639, 32, 8)"
      ]
     },
     "execution_count": 84,
     "metadata": {},
     "output_type": "execute_result"
    }
   ],
   "source": [
    "x_test.shape"
   ]
  },
  {
   "cell_type": "markdown",
   "metadata": {},
   "source": [
    "### Prediction results are the probability of each class"
   ]
  },
  {
   "cell_type": "code",
   "execution_count": 85,
   "metadata": {},
   "outputs": [
    {
     "data": {
      "text/plain": [
       "(110639, 7)"
      ]
     },
     "execution_count": 85,
     "metadata": {},
     "output_type": "execute_result"
    }
   ],
   "source": [
    "y_hat.shape"
   ]
  },
  {
   "cell_type": "code",
   "execution_count": 86,
   "metadata": {},
   "outputs": [
    {
     "data": {
      "text/plain": [
       "array([[  9.05662775e-01,   9.26854759e-02,   8.41933303e-04, ...,\n",
       "          1.43964544e-05,   3.81146237e-04,   9.13686381e-05],\n",
       "       [  8.93113971e-01,   1.04713507e-01,   1.13296497e-03, ...,\n",
       "          8.88536033e-06,   2.53188802e-04,   8.73065001e-05],\n",
       "       [  5.97273409e-01,   3.98178577e-01,   2.08383496e-03, ...,\n",
       "          1.81556345e-04,   3.86935892e-04,   2.46028940e-04],\n",
       "       ..., \n",
       "       [  9.99139071e-01,   1.91041676e-04,   2.45261799e-05, ...,\n",
       "          7.61168106e-09,   5.39919020e-05,   3.69164059e-06],\n",
       "       [  9.99183714e-01,   1.81071009e-04,   2.55907726e-05, ...,\n",
       "          8.04192180e-09,   5.89615593e-05,   3.63033246e-06],\n",
       "       [  9.99221444e-01,   1.73877168e-04,   2.64798855e-05, ...,\n",
       "          7.96048649e-09,   6.12487638e-05,   3.63211802e-06]], dtype=float32)"
      ]
     },
     "execution_count": 86,
     "metadata": {},
     "output_type": "execute_result"
    }
   ],
   "source": [
    "y_hat"
   ]
  },
  {
   "cell_type": "markdown",
   "metadata": {},
   "source": [
    "# Train a stage classification model with LSTM"
   ]
  },
  {
   "cell_type": "code",
   "execution_count": 89,
   "metadata": {},
   "outputs": [
    {
     "name": "stdout",
     "output_type": "stream",
     "text": [
      "Train on 331915 samples, validate on 110638 samples\n",
      "Epoch 1/10\n",
      "331904/331915 [============================>.] - ETA: 0s - loss: 0.2494 - acc: 0.9208Epoch 00001: val_acc improved from -inf to 0.91644, saving model to models/stage_lstm_v2.h5\n",
      "331915/331915 [==============================] - 378s 1ms/step - loss: 0.2494 - acc: 0.9208 - val_loss: 0.3435 - val_acc: 0.9164\n",
      "Epoch 2/10\n",
      "331904/331915 [============================>.] - ETA: 0s - loss: 0.1345 - acc: 0.9561Epoch 00002: val_acc improved from 0.91644 to 0.92011, saving model to models/stage_lstm_v2.h5\n",
      "331915/331915 [==============================] - 376s 1ms/step - loss: 0.1345 - acc: 0.9561 - val_loss: 0.3352 - val_acc: 0.9201\n",
      "Epoch 3/10\n",
      "331904/331915 [============================>.] - ETA: 0s - loss: 0.1149 - acc: 0.9621Epoch 00003: val_acc did not improve\n",
      "331915/331915 [==============================] - 377s 1ms/step - loss: 0.1149 - acc: 0.9621 - val_loss: 0.3767 - val_acc: 0.9130\n",
      "Epoch 4/10\n",
      "331904/331915 [============================>.] - ETA: 0s - loss: 0.1055 - acc: 0.9653Epoch 00004: val_acc improved from 0.92011 to 0.92309, saving model to models/stage_lstm_v2.h5\n",
      "331915/331915 [==============================] - 379s 1ms/step - loss: 0.1055 - acc: 0.9653 - val_loss: 0.3191 - val_acc: 0.9231\n",
      "Epoch 5/10\n",
      "331904/331915 [============================>.] - ETA: 0s - loss: 0.0996 - acc: 0.9674Epoch 00005: val_acc improved from 0.92309 to 0.92820, saving model to models/stage_lstm_v2.h5\n",
      "331915/331915 [==============================] - 377s 1ms/step - loss: 0.0996 - acc: 0.9674 - val_loss: 0.3097 - val_acc: 0.9282\n",
      "Epoch 6/10\n",
      "331904/331915 [============================>.] - ETA: 0s - loss: 0.0959 - acc: 0.9683Epoch 00006: val_acc improved from 0.92820 to 0.92861, saving model to models/stage_lstm_v2.h5\n",
      "331915/331915 [==============================] - 378s 1ms/step - loss: 0.0959 - acc: 0.9683 - val_loss: 0.3552 - val_acc: 0.9286\n",
      "Epoch 7/10\n",
      "331904/331915 [============================>.] - ETA: 0s - loss: 0.0923 - acc: 0.9698Epoch 00007: val_acc did not improve\n",
      "331915/331915 [==============================] - 377s 1ms/step - loss: 0.0923 - acc: 0.9698 - val_loss: 0.3978 - val_acc: 0.9193\n",
      "Epoch 8/10\n",
      "331904/331915 [============================>.] - ETA: 0s - loss: 0.0902 - acc: 0.9707Epoch 00008: val_acc did not improve\n",
      "331915/331915 [==============================] - 378s 1ms/step - loss: 0.0902 - acc: 0.9707 - val_loss: 0.4010 - val_acc: 0.9218\n",
      "Epoch 9/10\n",
      "331904/331915 [============================>.] - ETA: 0s - loss: 0.0894 - acc: 0.9712Epoch 00009: val_acc did not improve\n",
      "331915/331915 [==============================] - 379s 1ms/step - loss: 0.0894 - acc: 0.9712 - val_loss: 0.3896 - val_acc: 0.9188\n",
      "Epoch 10/10\n",
      "331904/331915 [============================>.] - ETA: 0s - loss: 0.0882 - acc: 0.9715Epoch 00010: val_acc improved from 0.92861 to 0.93106, saving model to models/stage_lstm_v2.h5\n",
      "331915/331915 [==============================] - 379s 1ms/step - loss: 0.0882 - acc: 0.9715 - val_loss: 0.3694 - val_acc: 0.9311\n",
      "CPU times: user 1h 37min 39s, sys: 7min 35s, total: 1h 45min 15s\n",
      "Wall time: 1h 2min 59s\n"
     ]
    }
   ],
   "source": [
    "%%time\n",
    "\n",
    "timesteps = x_train.shape[1]\n",
    "data_dim = x_train.shape[2]\n",
    "num_epochs = 10\n",
    "batch_size = 64\n",
    "num_classes = y2_train.shape[1]\n",
    "\n",
    "layers = [LSTM(batch_size, return_sequences=True,\n",
    "               input_shape=(timesteps, data_dim)), \n",
    "         LSTM(batch_size, return_sequences=True),\n",
    "         LSTM(batch_size),\n",
    "         Dense(num_classes, activation='softmax')]\n",
    "\n",
    "# expected input data shape: (batch_size, timesteps, data_dim)\n",
    "model = Sequential(layers)\n",
    "\n",
    "model.compile(loss='categorical_crossentropy',\n",
    "              optimizer='rmsprop',\n",
    "              metrics=['accuracy'])\n",
    "\n",
    "# checkpoint\n",
    "filepath=\"models/stage_lstm_v2.h5\"\n",
    "checkpoint = ModelCheckpoint(filepath, monitor='val_acc', verbose=1, save_best_only=True, mode='max')\n",
    "callbacks_list = [checkpoint]\n",
    "\n",
    "history = model.fit(x_train, y2_train,\n",
    "                    batch_size=batch_size, epochs=num_epochs,\n",
    "                    validation_data=(x_validate, y2_validate),\n",
    "                    callbacks=callbacks_list)"
   ]
  },
  {
   "cell_type": "markdown",
   "metadata": {},
   "source": [
    "## View training history"
   ]
  },
  {
   "cell_type": "code",
   "execution_count": 55,
   "metadata": {},
   "outputs": [
    {
     "data": {
      "image/png": "[encoded data removed]",
      "text/plain": [
       "<matplotlib.figure.Figure at 0x7fa4aaa8cc50>"
      ]
     },
     "metadata": {},
     "output_type": "display_data"
    },
    {
     "data": {
      "image/png": "[encoded data removed]",
      "text/plain": [
       "<matplotlib.figure.Figure at 0x7fa4aa0f5d10>"
      ]
     },
     "metadata": {},
     "output_type": "display_data"
    }
   ],
   "source": [
    "plot_history(history)"
   ]
  },
  {
   "cell_type": "markdown",
   "metadata": {},
   "source": [
    "## Save the model\n",
    "include the model and its weights"
   ]
  },
  {
   "cell_type": "code",
   "execution_count": null,
   "metadata": {},
   "outputs": [],
   "source": [
    "save_model(model, \"models/stage_lstm_v2.json\")"
   ]
  },
  {
   "cell_type": "markdown",
   "metadata": {},
   "source": [
    "## Use the saved model to predict on new data"
   ]
  },
  {
   "cell_type": "code",
   "execution_count": 56,
   "metadata": {
    "scrolled": true
   },
   "outputs": [
    {
     "name": "stdout",
     "output_type": "stream",
     "text": [
      "Loaded the model from disk\n"
     ]
    }
   ],
   "source": [
    "model = load_model('models/stage_lstm_v2.json', \"models/stage_lstm_v2.h5\")"
   ]
  },
  {
   "cell_type": "markdown",
   "metadata": {},
   "source": [
    "## We need to compile the model before use it"
   ]
  },
  {
   "cell_type": "code",
   "execution_count": 57,
   "metadata": {},
   "outputs": [],
   "source": [
    "model.compile(loss='categorical_crossentropy',\n",
    "              optimizer='rmsprop',\n",
    "              metrics=['accuracy'])"
   ]
  },
  {
   "cell_type": "markdown",
   "metadata": {},
   "source": [
    "## Evaluation"
   ]
  },
  {
   "cell_type": "markdown",
   "metadata": {},
   "source": [
    "display labels for the scalar outputs"
   ]
  },
  {
   "cell_type": "code",
   "execution_count": 58,
   "metadata": {},
   "outputs": [
    {
     "data": {
      "text/plain": [
       "['loss', 'acc']"
      ]
     },
     "execution_count": 58,
     "metadata": {},
     "output_type": "execute_result"
    }
   ],
   "source": [
    "model.metrics_names"
   ]
  },
  {
   "cell_type": "code",
   "execution_count": 90,
   "metadata": {},
   "outputs": [
    {
     "name": "stdout",
     "output_type": "stream",
     "text": [
      "110639/110639 [==============================] - 28s 253us/step\n"
     ]
    }
   ],
   "source": [
    "score = model.evaluate(x_test, y2_test, batch_size=64)"
   ]
  },
  {
   "cell_type": "code",
   "execution_count": 91,
   "metadata": {},
   "outputs": [
    {
     "data": {
      "text/plain": [
       "[0.45807175594517668, 0.91693706559277655]"
      ]
     },
     "execution_count": 91,
     "metadata": {},
     "output_type": "execute_result"
    }
   ],
   "source": [
    "score"
   ]
  },
  {
   "cell_type": "markdown",
   "metadata": {},
   "source": [
    "## Predict"
   ]
  },
  {
   "cell_type": "code",
   "execution_count": 61,
   "metadata": {},
   "outputs": [
    {
     "name": "stdout",
     "output_type": "stream",
     "text": [
      "CPU times: user 56.7 s, sys: 911 ms, total: 57.7 s\n",
      "Wall time: 53.6 s\n"
     ]
    }
   ],
   "source": [
    "%%time\n",
    "y_hat = model.predict(x_test)"
   ]
  },
  {
   "cell_type": "code",
   "execution_count": 62,
   "metadata": {},
   "outputs": [
    {
     "data": {
      "text/plain": [
       "(110639, 32, 8)"
      ]
     },
     "execution_count": 62,
     "metadata": {},
     "output_type": "execute_result"
    }
   ],
   "source": [
    "x_test.shape"
   ]
  },
  {
   "cell_type": "markdown",
   "metadata": {},
   "source": [
    "### Prediction results are the probability of each class"
   ]
  },
  {
   "cell_type": "code",
   "execution_count": 63,
   "metadata": {},
   "outputs": [
    {
     "data": {
      "text/plain": [
       "(110639, 10)"
      ]
     },
     "execution_count": 63,
     "metadata": {},
     "output_type": "execute_result"
    }
   ],
   "source": [
    "y_hat.shape"
   ]
  },
  {
   "cell_type": "code",
   "execution_count": 64,
   "metadata": {},
   "outputs": [
    {
     "data": {
      "text/plain": [
       "array([[  2.51026023e-16,   3.98357427e-14,   8.81139672e-19, ...,\n",
       "          2.24416124e-12,   1.03359237e-12,   1.31630046e-07],\n",
       "       [  4.09898920e-11,   7.00972222e-08,   3.76447429e-10, ...,\n",
       "          2.89564306e-09,   1.72894303e-08,   4.72029114e-06],\n",
       "       [  3.97504820e-08,   4.27433406e-05,   1.10471683e-06, ...,\n",
       "          7.20999196e-07,   2.19314115e-05,   6.71502843e-04],\n",
       "       ..., \n",
       "       [  1.76050021e-14,   3.55573211e-25,   7.56801721e-27, ...,\n",
       "          9.43718615e-18,   8.80834988e-17,   1.00000000e+00],\n",
       "       [  1.43966565e-14,   3.56362170e-25,   7.73883256e-27, ...,\n",
       "          7.58872120e-18,   6.61552055e-17,   1.00000000e+00],\n",
       "       [  1.41319129e-14,   3.57204649e-25,   7.98707954e-27, ...,\n",
       "          7.51147742e-18,   6.44732627e-17,   1.00000000e+00]], dtype=float32)"
      ]
     },
     "execution_count": 64,
     "metadata": {},
     "output_type": "execute_result"
    }
   ],
   "source": [
    "y_hat"
   ]
  }
 ],
 "metadata": {
  "kernelspec": {
   "display_name": "Python [conda env:screwdriving.lstm]",
   "language": "python",
   "name": "conda-env-screwdriving.lstm-py"
  },
  "language_info": {
   "codemirror_mode": {
    "name": "ipython",
    "version": 2
   },
   "file_extension": ".py",
   "mimetype": "text/x-python",
   "name": "python",
   "nbconvert_exporter": "python",
   "pygments_lexer": "ipython2",
   "version": "2.7.14"
  }
 },
 "nbformat": 4,
 "nbformat_minor": 2
}
