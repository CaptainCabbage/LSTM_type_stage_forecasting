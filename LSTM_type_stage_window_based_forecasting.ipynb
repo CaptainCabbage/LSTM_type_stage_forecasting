{
 "cells": [
  {
   "cell_type": "markdown",
   "metadata": {},
   "source": [
    "# README\n",
    "\n",
    "* For each observation, divid the sequence to a list of windows of the same size using a moving window of a fix size with a step of 1 or larger.\n",
    "* ~~Trucate long sequences to match the shortest~~\n",
    "* In training, use the same nunber of data points for each class. This means throwing away a ton of training data. "
   ]
  },
  {
   "cell_type": "code",
   "execution_count": 1,
   "metadata": {},
   "outputs": [
    {
     "name": "stderr",
     "output_type": "stream",
     "text": [
      "Using TensorFlow backend.\n"
     ]
    }
   ],
   "source": [
    "%matplotlib inline\n",
    "from keras.models import Sequential\n",
    "from keras.layers import LSTM, Dense\n",
    "from keras.models import model_from_json\n",
    "from keras.utils import to_categorical\n",
    "import numpy as np\n",
    "import pandas as pd\n",
    "import glob\n",
    "import matplotlib.pyplot as plt"
   ]
  },
  {
   "cell_type": "code",
   "execution_count": 2,
   "metadata": {},
   "outputs": [],
   "source": [
    "original_features=['scalar.fx', 'scalar.fy', 'scalar.fz','scalar.tx', 'scalar.ty','scalar.tz','scalar.current','scalar.ang_vel']"
   ]
  },
  {
   "cell_type": "markdown",
   "metadata": {},
   "source": [
    "# Load data"
   ]
  },
  {
   "cell_type": "code",
   "execution_count": 3,
   "metadata": {},
   "outputs": [
    {
     "name": "stdout",
     "output_type": "stream",
     "text": [
      "CPU times: user 13.4 s, sys: 636 ms, total: 14 s\n",
      "Wall time: 14.1 s\n"
     ]
    }
   ],
   "source": [
    "%%time\n",
    "dfs = [pd.read_csv(filename, sep=',',header=0) for filename in glob.glob(\"data/*.csv\")]"
   ]
  },
  {
   "cell_type": "markdown",
   "metadata": {},
   "source": [
    "## Get the longest and shortest sequences"
   ]
  },
  {
   "cell_type": "code",
   "execution_count": 4,
   "metadata": {},
   "outputs": [
    {
     "name": "stdout",
     "output_type": "stream",
     "text": [
      "shortest_len=535, longest_len=4479\n"
     ]
    }
   ],
   "source": [
    "longest_len = max(dfs, key=lambda df: df.shape[0]).shape[0]\n",
    "shortest_len = min(dfs, key=lambda df: df.shape[0]).shape[0]\n",
    "print(\"shortest_len={}, longest_len={}\".format( shortest_len, longest_len) )"
   ]
  },
  {
   "cell_type": "markdown",
   "metadata": {},
   "source": [
    "# Create windows\n",
    "\n",
    "* Windows are equal length comprising of N, eg. 32, time frames.\n",
    "* A wavelet is obtained by using a moving window of length N.\n",
    "* The beginning of the moving window starts M, e.g. 8, time frames behind the beginning of the previous window."
   ]
  },
  {
   "cell_type": "code",
   "execution_count": 5,
   "metadata": {},
   "outputs": [],
   "source": [
    "def rolling(df, original_features=original_features, \n",
    "            frames=32, steps=8, type_class='class.type', stage_class='class.stage'):\n",
    "    \"\"\"\n",
    "    df - dataframe\n",
    "    \"\"\"\n",
    "    starts = np.arange(0, len(df)-frames, steps)[:-1] # an array of start locations    \n",
    "    x = np.zeros((len(starts), frames, len(original_features)))\n",
    "    y = np.zeros((len(starts), 1))\n",
    "    y2 = np.zeros((len(starts), 1))\n",
    "    \n",
    "    for i in np.arange(len(starts)):\n",
    "        start = starts[i]\n",
    "        x[i] = df.iloc[start:start+frames].as_matrix(columns=original_features)\n",
    "        y[i] = df[type_class].iloc[start + steps]\n",
    "        y2[i] = df[stage_class].iloc[start + steps]\n",
    "\n",
    "    return x, y, y2"
   ]
  },
  {
   "cell_type": "code",
   "execution_count": 6,
   "metadata": {},
   "outputs": [],
   "source": [
    "def moving_windows(dfs, frames=32, steps=8):\n",
    "    \"\"\"split each observation to a tuple of X, Y, Y2 using a moving window\"\"\"\n",
    "\n",
    "    X=None; Y=None; Y2=None\n",
    "    for df in dfs:\n",
    "        x, y, y2 = rolling(df, original_features,frames, steps)\n",
    "        if X is None:\n",
    "            X = x.copy(); Y = y.copy(); Y2 = y2.copy();\n",
    "        else:\n",
    "            X = np.append(X, x, axis=0)\n",
    "            Y = np.append(Y, y, axis=0)\n",
    "            Y2= np.append(Y2, y2, axis=0)\n",
    "    return X, Y, Y2"
   ]
  },
  {
   "cell_type": "markdown",
   "metadata": {},
   "source": [
    "## save or load window-based data"
   ]
  },
  {
   "cell_type": "code",
   "execution_count": 7,
   "metadata": {
    "scrolled": true
   },
   "outputs": [
    {
     "name": "stdout",
     "output_type": "stream",
     "text": [
      "CPU times: user 4.14 s, sys: 73.9 ms, total: 4.21 s\n",
      "Wall time: 4.21 s\n"
     ]
    }
   ],
   "source": [
    "%%time\n",
    "frames = 32\n",
    "steps = 8\n",
    "\n",
    "import os.path\n",
    "file_path = 'data_win/f32s8.npz'\n",
    "if os.path.exists(file_path):\n",
    "    loaded = np.load(file_path)\n",
    "    X = loaded['X']\n",
    "    Y = loaded['Y']\n",
    "    Y2 = loaded['Y2']\n",
    "else:\n",
    "    X, Y, Y2 = moving_windows(dfs, frames, steps)\n",
    "    np.savez_compressed(file_path, X=X, Y=Y, Y2=Y2)"
   ]
  },
  {
   "cell_type": "markdown",
   "metadata": {},
   "source": [
    "#### Plot a histogram of types"
   ]
  },
  {
   "cell_type": "code",
   "execution_count": 8,
   "metadata": {},
   "outputs": [
    {
     "data": {
      "text/plain": [
       "(array([      0.,  433720.,   82458.,   21594.,    3516.,    2264.,\n",
       "           6397.,    3243.]),\n",
       " array([0, 1, 2, 3, 4, 5, 6, 7, 8]),\n",
       " <a list of 8 Patch objects>)"
      ]
     },
     "execution_count": 8,
     "metadata": {},
     "output_type": "execute_result"
    },
    {
     "data": {
      "image/png": "[encoded data removed]",
      "text/plain": [
       "<matplotlib.figure.Figure at 0x7f6ea049c190>"
      ]
     },
     "metadata": {},
     "output_type": "display_data"
    }
   ],
   "source": [
    "plt.hist(Y, bins=np.arange(len(np.unique(Y))+2), rwidth=.7, align='mid')"
   ]
  },
  {
   "cell_type": "code",
   "execution_count": 9,
   "metadata": {},
   "outputs": [
    {
     "data": {
      "text/plain": [
       "array([ 1.,  2.,  3.,  4.,  5.,  6.,  7.])"
      ]
     },
     "execution_count": 9,
     "metadata": {},
     "output_type": "execute_result"
    }
   ],
   "source": [
    "np.unique(Y)"
   ]
  },
  {
   "cell_type": "markdown",
   "metadata": {},
   "source": [
    "#### Plot a histogram of stages"
   ]
  },
  {
   "cell_type": "code",
   "execution_count": 10,
   "metadata": {},
   "outputs": [
    {
     "data": {
      "text/plain": [
       "(array([  42954.,   24250.,   30095.,   76401.,  322035.,   10290.,\n",
       "           2103.,     952.,    2786.,   41326.]),\n",
       " array([ 0,  1,  2,  3,  4,  5,  6,  7,  8,  9, 10]),\n",
       " <a list of 10 Patch objects>)"
      ]
     },
     "execution_count": 10,
     "metadata": {},
     "output_type": "execute_result"
    },
    {
     "data": {
      "image/png": "[encoded data removed]",
      "text/plain": [
       "<matplotlib.figure.Figure at 0x7f6df9032190>"
      ]
     },
     "metadata": {},
     "output_type": "display_data"
    }
   ],
   "source": [
    "plt.hist(Y2, bins=np.arange(len(np.unique(Y2))+1), rwidth=.7, align='mid')"
   ]
  },
  {
   "cell_type": "code",
   "execution_count": 11,
   "metadata": {},
   "outputs": [
    {
     "data": {
      "text/plain": [
       "array([ 0.,  1.,  2.,  3.,  4.,  5.,  6.,  7.,  8.,  9.])"
      ]
     },
     "execution_count": 11,
     "metadata": {},
     "output_type": "execute_result"
    }
   ],
   "source": [
    "np.unique(Y2)"
   ]
  },
  {
   "cell_type": "markdown",
   "metadata": {},
   "source": [
    "# One hot encoding of dependent variables"
   ]
  },
  {
   "cell_type": "code",
   "execution_count": 12,
   "metadata": {
    "scrolled": true
   },
   "outputs": [
    {
     "data": {
      "text/plain": [
       "(553192, 7)"
      ]
     },
     "execution_count": 12,
     "metadata": {},
     "output_type": "execute_result"
    }
   ],
   "source": [
    "offset = 1\n",
    "num_classes = len(np.unique(Y))\n",
    "Y_encoded=to_categorical(Y-offset, num_classes=num_classes)\n",
    "Y_encoded.shape"
   ]
  },
  {
   "cell_type": "code",
   "execution_count": 13,
   "metadata": {},
   "outputs": [
    {
     "data": {
      "text/plain": [
       "(553192, 10)"
      ]
     },
     "execution_count": 13,
     "metadata": {},
     "output_type": "execute_result"
    }
   ],
   "source": [
    "offset = 0\n",
    "num_classes = len(np.unique(Y2))\n",
    "Y2_encoded=to_categorical(Y2, num_classes=num_classes)\n",
    "Y2_encoded.shape"
   ]
  },
  {
   "cell_type": "markdown",
   "metadata": {},
   "source": [
    "# Split the data to train, validation and test\n",
    "\n",
    "* train = 60%\n",
    "* validation = 20%\n",
    "* test = 20%"
   ]
  },
  {
   "cell_type": "code",
   "execution_count": 14,
   "metadata": {
    "scrolled": true
   },
   "outputs": [
    {
     "name": "stdout",
     "output_type": "stream",
     "text": [
      "((331915, 32, 8), (331915, 7), (331915, 10))\n",
      "((110638, 32, 8), (110638, 7), (110638, 10))\n",
      "((110639, 32, 8), (110639, 7), (110639, 10))\n"
     ]
    }
   ],
   "source": [
    "x_train, x_validate, x_test = np.split(X, [int(.6*len(X)), int(.8*len(X))])\n",
    "y_train, y_validate, y_test = np.split(Y_encoded, [int(.6*len(Y_encoded)), int(.8*len(Y_encoded))])\n",
    "y2_train, y2_validate, y2_test = np.split(Y2_encoded, [int(.6*len(Y2_encoded)), int(.8*len(Y2_encoded))])\n",
    "\n",
    "print (x_train.shape, y_train.shape, y2_train.shape)\n",
    "print (x_validate.shape, y_validate.shape, y2_validate.shape)\n",
    "print (x_test.shape, y_test.shape, y2_test.shape)"
   ]
  },
  {
   "cell_type": "markdown",
   "metadata": {},
   "source": [
    "### Histogram of classes in training data"
   ]
  },
  {
   "cell_type": "code",
   "execution_count": 15,
   "metadata": {},
   "outputs": [
    {
     "data": {
      "text/plain": [
       "(array([ 259741.,   47704.,   13477.,    2275.,    1808.,    4118.,    2792.]),\n",
       " array([0, 1, 2, 3, 4, 5, 6, 7]),\n",
       " <a list of 7 Patch objects>)"
      ]
     },
     "execution_count": 15,
     "metadata": {},
     "output_type": "execute_result"
    },
    {
     "data": {
      "image/png": "[encoded data removed]",
      "text/plain": [
       "<matplotlib.figure.Figure at 0x7f6df4787d90>"
      ]
     },
     "metadata": {},
     "output_type": "display_data"
    }
   ],
   "source": [
    "labels=np.argmax(y_train, axis=1)\n",
    "plt.hist(labels, bins=np.arange(len(np.unique(labels))+1), rwidth=.7, align='mid')"
   ]
  },
  {
   "cell_type": "code",
   "execution_count": 16,
   "metadata": {},
   "outputs": [
    {
     "data": {
      "text/plain": [
       "(array([  25840.,   15718.,   18270.,   43892.,  193170.,    6269.,\n",
       "           1670.,     605.,    1739.,   24742.]),\n",
       " array([ 0,  1,  2,  3,  4,  5,  6,  7,  8,  9, 10]),\n",
       " <a list of 10 Patch objects>)"
      ]
     },
     "execution_count": 16,
     "metadata": {},
     "output_type": "execute_result"
    },
    {
     "data": {
      "image/png": "[encoded data removed]",
      "text/plain": [
       "<matplotlib.figure.Figure at 0x7f6df4787310>"
      ]
     },
     "metadata": {},
     "output_type": "display_data"
    }
   ],
   "source": [
    "labels=np.argmax(y2_train, axis=1)\n",
    "plt.hist(labels, bins=np.arange(len(np.unique(labels))+1), rwidth=.7, align='mid')"
   ]
  },
  {
   "cell_type": "markdown",
   "metadata": {},
   "source": [
    "# Train a type classification model with LSTM"
   ]
  },
  {
   "cell_type": "code",
   "execution_count": 203,
   "metadata": {},
   "outputs": [
    {
     "name": "stdout",
     "output_type": "stream",
     "text": [
      "Train on 331915 samples, validate on 110638 samples\n",
      "Epoch 1/2\n",
      "331915/331915 [==============================] - 366s 1ms/step - loss: 0.2601 - acc: 0.9207 - val_loss: 0.4082 - val_acc: 0.9085\n",
      "Epoch 2/2\n",
      "331915/331915 [==============================] - 366s 1ms/step - loss: 0.1784 - acc: 0.9469 - val_loss: 0.4011 - val_acc: 0.9142\n",
      "CPU times: user 18min 34s, sys: 1min 33s, total: 20min 7s\n",
      "Wall time: 12min 14s\n"
     ]
    }
   ],
   "source": [
    "%%time\n",
    "\n",
    "timesteps = x_train.shape[1]\n",
    "data_dim = x_train.shape[2]\n",
    "num_epochs = 2\n",
    "batch_size = 64\n",
    "num_classes = y_train.shape[1]\n",
    "\n",
    "layers = [LSTM(batch_size, return_sequences=True,\n",
    "               input_shape=(timesteps, data_dim)), \n",
    "         LSTM(batch_size, return_sequences=True),\n",
    "         LSTM(batch_size),\n",
    "         Dense(num_classes, activation='softmax')]\n",
    "\n",
    "# expected input data shape: (batch_size, timesteps, data_dim)\n",
    "model = Sequential(layers)\n",
    "\n",
    "model.compile(loss='categorical_crossentropy',\n",
    "              optimizer='rmsprop',\n",
    "              metrics=['accuracy'])\n",
    "\n",
    "history = model.fit(x_train, y_train,\n",
    "          batch_size=batch_size, epochs=num_epochs,\n",
    "          validation_data=(x_validate, y_validate))"
   ]
  },
  {
   "cell_type": "markdown",
   "metadata": {},
   "source": [
    "## View training history"
   ]
  },
  {
   "cell_type": "code",
   "execution_count": 19,
   "metadata": {},
   "outputs": [],
   "source": [
    "def plot_history(history):\n",
    "    # summarize history for accuracy\n",
    "    plt.plot(history.history['acc'])\n",
    "    plt.plot(history.history['val_acc'])\n",
    "    plt.title('model accuracy')\n",
    "    plt.ylabel('accuracy')\n",
    "    plt.xlabel('epoch')\n",
    "    plt.legend(['train', 'validate'], loc='upper left')\n",
    "    plt.show()\n",
    "    \n",
    "    # summarize history for loss\n",
    "    plt.plot(history.history['loss'])\n",
    "    plt.plot(history.history['val_loss'])\n",
    "    plt.title('model loss')\n",
    "    plt.ylabel('loss')\n",
    "    plt.xlabel('epoch')\n",
    "    plt.legend(['train', 'validate'], loc='upper left')\n",
    "    plt.show()"
   ]
  },
  {
   "cell_type": "code",
   "execution_count": 223,
   "metadata": {},
   "outputs": [
    {
     "data": {
      "image/png": "[encoded data removed]",
      "text/plain": [
       "<matplotlib.figure.Figure at 0x7f212c66b5d0>"
      ]
     },
     "metadata": {},
     "output_type": "display_data"
    },
    {
     "data": {
      "image/png": "[encoded data removed]",
      "text/plain": [
       "<matplotlib.figure.Figure at 0x7f212fd5d390>"
      ]
     },
     "metadata": {},
     "output_type": "display_data"
    }
   ],
   "source": [
    "plot_history(history)"
   ]
  },
  {
   "cell_type": "markdown",
   "metadata": {},
   "source": [
    "## Save the model\n",
    "include the model and its weights"
   ]
  },
  {
   "cell_type": "code",
   "execution_count": 22,
   "metadata": {},
   "outputs": [],
   "source": [
    "def save_model(model, model_filename=\"models/type_lstm_v2.json\", weights_file_name=\"models/type_lstm_v2.h5\"):\n",
    "    # serialize model to JSON\n",
    "    model_json = model.to_json()\n",
    "    with open(model_filename, \"w\") as json_file:\n",
    "        json_file.write(model_json)\n",
    "    # serialize weights to HDF5\n",
    "    model.save_weights(weights_file_name)\n",
    "    print(\"Saved the model to disk\")"
   ]
  },
  {
   "cell_type": "code",
   "execution_count": 208,
   "metadata": {},
   "outputs": [
    {
     "name": "stdout",
     "output_type": "stream",
     "text": [
      "Saved the model to disk\n"
     ]
    }
   ],
   "source": [
    "save_model(model, \"models/type_lstm_v2.json\", \"models/type_lstm_v2.h5\")"
   ]
  },
  {
   "cell_type": "markdown",
   "metadata": {},
   "source": [
    "## Use the saved model to predict on new data"
   ]
  },
  {
   "cell_type": "code",
   "execution_count": 25,
   "metadata": {},
   "outputs": [],
   "source": [
    "def load_model(model_filename='models/type_lstm_v2.json', weights_filename=\"models/type_lstm_v2.h5\"):\n",
    "    # load json and create model\n",
    "    json_file = open(model_filename, 'r')\n",
    "    loaded_model_json = json_file.read()\n",
    "    json_file.close()\n",
    "    loaded_model = model_from_json(loaded_model_json)\n",
    "    # load weights into new model\n",
    "    loaded_model.load_weights(weights_filename)\n",
    "    print(\"Loaded the model from disk\")\n",
    "    \n",
    "    return loaded_model"
   ]
  },
  {
   "cell_type": "code",
   "execution_count": 211,
   "metadata": {},
   "outputs": [
    {
     "name": "stdout",
     "output_type": "stream",
     "text": [
      "Loaded the model from disk\n"
     ]
    }
   ],
   "source": [
    "model = load_model('models/type_lstm_v2.json', \"models/type_lstm_v2.h5\")"
   ]
  },
  {
   "cell_type": "markdown",
   "metadata": {},
   "source": [
    "## We need to compile the model before use it"
   ]
  },
  {
   "cell_type": "code",
   "execution_count": 213,
   "metadata": {},
   "outputs": [],
   "source": [
    "model.compile(loss='categorical_crossentropy',\n",
    "              optimizer='rmsprop',\n",
    "              metrics=['accuracy'])"
   ]
  },
  {
   "cell_type": "markdown",
   "metadata": {},
   "source": [
    "## Evaluation"
   ]
  },
  {
   "cell_type": "markdown",
   "metadata": {},
   "source": [
    "display labels for the scalar outputs"
   ]
  },
  {
   "cell_type": "code",
   "execution_count": 214,
   "metadata": {},
   "outputs": [
    {
     "data": {
      "text/plain": [
       "['loss', 'acc']"
      ]
     },
     "execution_count": 214,
     "metadata": {},
     "output_type": "execute_result"
    }
   ],
   "source": [
    "model.metrics_names"
   ]
  },
  {
   "cell_type": "code",
   "execution_count": 215,
   "metadata": {},
   "outputs": [
    {
     "name": "stdout",
     "output_type": "stream",
     "text": [
      "110639/110639 [==============================] - 27s 246us/step\n"
     ]
    }
   ],
   "source": [
    "score = model.evaluate(x_test, y_test, batch_size=64)"
   ]
  },
  {
   "cell_type": "code",
   "execution_count": 216,
   "metadata": {},
   "outputs": [
    {
     "data": {
      "text/plain": [
       "[0.58703763481808136, 0.88250978407252412]"
      ]
     },
     "execution_count": 216,
     "metadata": {},
     "output_type": "execute_result"
    }
   ],
   "source": [
    "score"
   ]
  },
  {
   "cell_type": "markdown",
   "metadata": {},
   "source": [
    "## Predict\n",
    "\n",
    "**Remember** The classes are 0 to 6 instead of 1 to 7."
   ]
  },
  {
   "cell_type": "code",
   "execution_count": 217,
   "metadata": {},
   "outputs": [
    {
     "name": "stdout",
     "output_type": "stream",
     "text": [
      "CPU times: user 55 s, sys: 912 ms, total: 55.9 s\n",
      "Wall time: 52.1 s\n"
     ]
    }
   ],
   "source": [
    "%%time\n",
    "y_hat = model.predict(x_test)"
   ]
  },
  {
   "cell_type": "code",
   "execution_count": 218,
   "metadata": {},
   "outputs": [
    {
     "data": {
      "text/plain": [
       "(110639, 32, 8)"
      ]
     },
     "execution_count": 218,
     "metadata": {},
     "output_type": "execute_result"
    }
   ],
   "source": [
    "x_test.shape"
   ]
  },
  {
   "cell_type": "markdown",
   "metadata": {},
   "source": [
    "### Prediction results are the probability of each class"
   ]
  },
  {
   "cell_type": "code",
   "execution_count": 221,
   "metadata": {},
   "outputs": [
    {
     "data": {
      "text/plain": [
       "(110639, 7)"
      ]
     },
     "execution_count": 221,
     "metadata": {},
     "output_type": "execute_result"
    }
   ],
   "source": [
    "y_hat.shape"
   ]
  },
  {
   "cell_type": "code",
   "execution_count": 222,
   "metadata": {},
   "outputs": [
    {
     "data": {
      "text/plain": [
       "array([[  9.65558589e-01,   2.59931013e-02,   7.62081845e-03, ...,\n",
       "          8.81362575e-06,   2.99565814e-04,   1.20917277e-04],\n",
       "       [  9.08049345e-01,   8.79234746e-02,   2.83322064e-03, ...,\n",
       "          1.37809475e-05,   6.29237504e-04,   1.32694418e-04],\n",
       "       [  2.21656829e-01,   7.68357635e-01,   2.72855023e-03, ...,\n",
       "          1.43685596e-04,   5.94452303e-03,   7.39601557e-04],\n",
       "       ..., \n",
       "       [  9.98853207e-01,   2.85332091e-04,   5.26196964e-05, ...,\n",
       "          8.07839184e-10,   1.10939745e-05,   1.29518530e-05],\n",
       "       [  9.98848319e-01,   2.89355608e-04,   5.32317790e-05, ...,\n",
       "          8.23479285e-10,   1.11304389e-05,   1.29263944e-05],\n",
       "       [  9.98844743e-01,   2.92259938e-04,   5.37172309e-05, ...,\n",
       "          8.31105629e-10,   1.11812869e-05,   1.29253995e-05]], dtype=float32)"
      ]
     },
     "execution_count": 222,
     "metadata": {},
     "output_type": "execute_result"
    }
   ],
   "source": [
    "y_hat"
   ]
  },
  {
   "cell_type": "markdown",
   "metadata": {},
   "source": [
    "# Train a stage classification model with LSTM"
   ]
  },
  {
   "cell_type": "code",
   "execution_count": 17,
   "metadata": {},
   "outputs": [
    {
     "name": "stdout",
     "output_type": "stream",
     "text": [
      "Train on 331915 samples, validate on 110638 samples\n",
      "Epoch 1/2\n",
      "331915/331915 [==============================] - 370s 1ms/step - loss: 0.2590 - acc: 0.9182 - val_loss: 0.3623 - val_acc: 0.9080\n",
      "Epoch 2/2\n",
      "331915/331915 [==============================] - 369s 1ms/step - loss: 0.1365 - acc: 0.9548 - val_loss: 0.3563 - val_acc: 0.9163\n",
      "CPU times: user 18min 30s, sys: 1min 15s, total: 19min 46s\n",
      "Wall time: 12min 20s\n"
     ]
    }
   ],
   "source": [
    "%%time\n",
    "\n",
    "timesteps = x_train.shape[1]\n",
    "data_dim = x_train.shape[2]\n",
    "num_epochs = 2\n",
    "batch_size = 64\n",
    "num_classes = y2_train.shape[1]\n",
    "\n",
    "layers = [LSTM(batch_size, return_sequences=True,\n",
    "               input_shape=(timesteps, data_dim)), \n",
    "         LSTM(batch_size, return_sequences=True),\n",
    "         LSTM(batch_size),\n",
    "         Dense(num_classes, activation='softmax')]\n",
    "\n",
    "# expected input data shape: (batch_size, timesteps, data_dim)\n",
    "model = Sequential(layers)\n",
    "\n",
    "model.compile(loss='categorical_crossentropy',\n",
    "              optimizer='rmsprop',\n",
    "              metrics=['accuracy'])\n",
    "\n",
    "history = model.fit(x_train, y2_train,\n",
    "          batch_size=batch_size, epochs=num_epochs,\n",
    "          validation_data=(x_validate, y2_validate))"
   ]
  },
  {
   "cell_type": "markdown",
   "metadata": {},
   "source": [
    "## View training history"
   ]
  },
  {
   "cell_type": "code",
   "execution_count": 20,
   "metadata": {},
   "outputs": [
    {
     "data": {
      "image/png": "[encoded data removed]",
      "text/plain": [
       "<matplotlib.figure.Figure at 0x7f6def59b410>"
      ]
     },
     "metadata": {},
     "output_type": "display_data"
    },
    {
     "data": {
      "image/png": "[encoded data removed]",
      "text/plain": [
       "<matplotlib.figure.Figure at 0x7f6df8fd5d10>"
      ]
     },
     "metadata": {},
     "output_type": "display_data"
    }
   ],
   "source": [
    "plot_history(history)"
   ]
  },
  {
   "cell_type": "markdown",
   "metadata": {},
   "source": [
    "## Save the model\n",
    "include the model and its weights"
   ]
  },
  {
   "cell_type": "code",
   "execution_count": 23,
   "metadata": {},
   "outputs": [
    {
     "name": "stdout",
     "output_type": "stream",
     "text": [
      "Saved the model to disk\n"
     ]
    }
   ],
   "source": [
    "save_model(model, \"models/stage_lstm_v2.json\", \"models/stage_lstm_v2.h5\")"
   ]
  },
  {
   "cell_type": "markdown",
   "metadata": {},
   "source": [
    "## Use the saved model to predict on new data"
   ]
  },
  {
   "cell_type": "code",
   "execution_count": 26,
   "metadata": {
    "scrolled": true
   },
   "outputs": [
    {
     "name": "stdout",
     "output_type": "stream",
     "text": [
      "Loaded the model from disk\n"
     ]
    }
   ],
   "source": [
    "model = load_model('models/stage_lstm_v2.json', \"models/stage_lstm_v2.h5\")"
   ]
  },
  {
   "cell_type": "markdown",
   "metadata": {},
   "source": [
    "## We need to compile the model before use it"
   ]
  },
  {
   "cell_type": "code",
   "execution_count": 27,
   "metadata": {},
   "outputs": [],
   "source": [
    "model.compile(loss='categorical_crossentropy',\n",
    "              optimizer='rmsprop',\n",
    "              metrics=['accuracy'])"
   ]
  },
  {
   "cell_type": "markdown",
   "metadata": {},
   "source": [
    "## Evaluation"
   ]
  },
  {
   "cell_type": "markdown",
   "metadata": {},
   "source": [
    "display labels for the scalar outputs"
   ]
  },
  {
   "cell_type": "code",
   "execution_count": 28,
   "metadata": {},
   "outputs": [
    {
     "data": {
      "text/plain": [
       "['loss', 'acc']"
      ]
     },
     "execution_count": 28,
     "metadata": {},
     "output_type": "execute_result"
    }
   ],
   "source": [
    "model.metrics_names"
   ]
  },
  {
   "cell_type": "code",
   "execution_count": 29,
   "metadata": {},
   "outputs": [
    {
     "name": "stdout",
     "output_type": "stream",
     "text": [
      "110639/110639 [==============================] - 28s 252us/step\n"
     ]
    }
   ],
   "source": [
    "score = model.evaluate(x_test, y2_test, batch_size=64)"
   ]
  },
  {
   "cell_type": "code",
   "execution_count": 30,
   "metadata": {},
   "outputs": [
    {
     "data": {
      "text/plain": [
       "[0.36901070108999057, 0.90858558013104973]"
      ]
     },
     "execution_count": 30,
     "metadata": {},
     "output_type": "execute_result"
    }
   ],
   "source": [
    "score"
   ]
  },
  {
   "cell_type": "markdown",
   "metadata": {},
   "source": [
    "## Predict"
   ]
  },
  {
   "cell_type": "code",
   "execution_count": 31,
   "metadata": {},
   "outputs": [
    {
     "name": "stdout",
     "output_type": "stream",
     "text": [
      "CPU times: user 56.6 s, sys: 830 ms, total: 57.4 s\n",
      "Wall time: 53.5 s\n"
     ]
    }
   ],
   "source": [
    "%%time\n",
    "y_hat = model.predict(x_test)"
   ]
  },
  {
   "cell_type": "code",
   "execution_count": 32,
   "metadata": {},
   "outputs": [
    {
     "data": {
      "text/plain": [
       "(110639, 32, 8)"
      ]
     },
     "execution_count": 32,
     "metadata": {},
     "output_type": "execute_result"
    }
   ],
   "source": [
    "x_test.shape"
   ]
  },
  {
   "cell_type": "markdown",
   "metadata": {},
   "source": [
    "### Prediction results are the probability of each class"
   ]
  },
  {
   "cell_type": "code",
   "execution_count": 33,
   "metadata": {},
   "outputs": [
    {
     "data": {
      "text/plain": [
       "(110639, 10)"
      ]
     },
     "execution_count": 33,
     "metadata": {},
     "output_type": "execute_result"
    }
   ],
   "source": [
    "y_hat.shape"
   ]
  },
  {
   "cell_type": "code",
   "execution_count": 34,
   "metadata": {},
   "outputs": [
    {
     "data": {
      "text/plain": [
       "array([[  1.79879731e-04,   3.08321952e-03,   1.77897280e-03, ...,\n",
       "          3.66013001e-06,   2.13543186e-04,   2.51997937e-03],\n",
       "       [  1.86638383e-04,   2.78232712e-03,   1.33088825e-03, ...,\n",
       "          2.51796428e-06,   2.18545392e-04,   2.93292059e-03],\n",
       "       [  3.38611047e-04,   2.10224418e-03,   6.59144076e-04, ...,\n",
       "          2.76826040e-06,   7.18989817e-04,   1.99226197e-03],\n",
       "       ..., \n",
       "       [  7.10208667e-07,   1.99685815e-06,   2.47788853e-06, ...,\n",
       "          3.28502097e-06,   5.41088002e-06,   9.99902010e-01],\n",
       "       [  7.06874971e-07,   1.98989210e-06,   2.47511230e-06, ...,\n",
       "          3.30794387e-06,   5.42267617e-06,   9.99902487e-01],\n",
       "       [  7.09224878e-07,   1.99271949e-06,   2.48745982e-06, ...,\n",
       "          3.34906963e-06,   5.44990507e-06,   9.99902487e-01]], dtype=float32)"
      ]
     },
     "execution_count": 34,
     "metadata": {},
     "output_type": "execute_result"
    }
   ],
   "source": [
    "y_hat"
   ]
  }
 ],
 "metadata": {
  "kernelspec": {
   "display_name": "Python [conda env:screwdriving.lstm]",
   "language": "python",
   "name": "conda-env-screwdriving.lstm-py"
  },
  "language_info": {
   "codemirror_mode": {
    "name": "ipython",
    "version": 2
   },
   "file_extension": ".py",
   "mimetype": "text/x-python",
   "name": "python",
   "nbconvert_exporter": "python",
   "pygments_lexer": "ipython2",
   "version": "2.7.14"
  }
 },
 "nbformat": 4,
 "nbformat_minor": 2
}
