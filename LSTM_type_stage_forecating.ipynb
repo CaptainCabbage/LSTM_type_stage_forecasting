{
 "cells": [
  {
   "cell_type": "markdown",
   "metadata": {},
   "source": [
    "# README\n",
    "\n",
    "Train and predict type and stage classes with LSTM\n",
    "\n",
    "* Load data from CSV files\n",
    "    * inspect the data\n",
    "* Dependent variables\n",
    "    * convert a class vector (integers) to binary class matrix (one hot encoding)\n",
    "* Train a LSTM model for type classification\n",
    "    * save and restore model and weights\n",
    "    * evaluation and prediction\n",
    "* Train a LSTM model for stage classification\n",
    "    * save and restore model and weights\n",
    "    * evaluation and prediction"
   ]
  },
  {
   "cell_type": "code",
   "execution_count": 197,
   "metadata": {},
   "outputs": [],
   "source": [
    "%matplotlib inline"
   ]
  },
  {
   "cell_type": "code",
   "execution_count": 281,
   "metadata": {},
   "outputs": [],
   "source": [
    "from keras.models import Sequential\n",
    "from keras.layers import LSTM, Dense\n",
    "from keras.models import model_from_json\n",
    "import numpy as np\n",
    "import pandas as pd\n",
    "import glob\n",
    "import matplotlib.pyplot as plt"
   ]
  },
  {
   "cell_type": "code",
   "execution_count": 199,
   "metadata": {
    "scrolled": true
   },
   "outputs": [],
   "source": [
    "original_features=['scalar.fx', 'scalar.fy', 'scalar.fz','scalar.tx', 'scalar.ty','scalar.tz','scalar.current','scalar.ang_vel']"
   ]
  },
  {
   "cell_type": "markdown",
   "metadata": {},
   "source": [
    "# Load data"
   ]
  },
  {
   "cell_type": "code",
   "execution_count": 201,
   "metadata": {},
   "outputs": [
    {
     "name": "stdout",
     "output_type": "stream",
     "text": [
      "CPU times: user 15.1 s, sys: 0 ns, total: 15.1 s\n",
      "Wall time: 15.1 s\n"
     ]
    }
   ],
   "source": [
    "%%time\n",
    "dfs = [pd.read_csv(filename, sep=',',header=0) for filename in glob.glob(\"data/*.csv\")]"
   ]
  },
  {
   "cell_type": "markdown",
   "metadata": {},
   "source": [
    "## View the first observation"
   ]
  },
  {
   "cell_type": "code",
   "execution_count": 312,
   "metadata": {
    "scrolled": true
   },
   "outputs": [
    {
     "data": {
      "text/html": [
       "<div>\n",
       "<style scoped>\n",
       "    .dataframe tbody tr th:only-of-type {\n",
       "        vertical-align: middle;\n",
       "    }\n",
       "\n",
       "    .dataframe tbody tr th {\n",
       "        vertical-align: top;\n",
       "    }\n",
       "\n",
       "    .dataframe thead th {\n",
       "        text-align: right;\n",
       "    }\n",
       "</style>\n",
       "<table border=\"1\" class=\"dataframe\">\n",
       "  <thead>\n",
       "    <tr style=\"text-align: right;\">\n",
       "      <th></th>\n",
       "      <th>time</th>\n",
       "      <th>class.stage</th>\n",
       "      <th>class.success</th>\n",
       "      <th>class.type</th>\n",
       "      <th>scalar.fx</th>\n",
       "      <th>scalar.fy</th>\n",
       "      <th>scalar.fz</th>\n",
       "      <th>scalar.tx</th>\n",
       "      <th>scalar.ty</th>\n",
       "      <th>scalar.tz</th>\n",
       "      <th>...</th>\n",
       "      <th>scalar.fz_sd[0.3]</th>\n",
       "      <th>scalar.tx_sd[0.3]</th>\n",
       "      <th>scalar.ty_sd[0.3]</th>\n",
       "      <th>scalar.tz_sd[0.3]</th>\n",
       "      <th>scalar.current</th>\n",
       "      <th>scalar.ang_vel</th>\n",
       "      <th>scalar.current_sma[0.3]</th>\n",
       "      <th>scalar.ang_vel_sma[0.3]</th>\n",
       "      <th>scalar.current_sd[0.3]</th>\n",
       "      <th>scalar.ang_vel_sd[0.3]</th>\n",
       "    </tr>\n",
       "  </thead>\n",
       "  <tbody>\n",
       "    <tr>\n",
       "      <th>0</th>\n",
       "      <td>0.000000</td>\n",
       "      <td>0</td>\n",
       "      <td>1</td>\n",
       "      <td>1</td>\n",
       "      <td>0.000000</td>\n",
       "      <td>0.000000</td>\n",
       "      <td>0.000000</td>\n",
       "      <td>0.000000</td>\n",
       "      <td>0.000000</td>\n",
       "      <td>0.000</td>\n",
       "      <td>...</td>\n",
       "      <td>0.000000</td>\n",
       "      <td>0.000000</td>\n",
       "      <td>0.000000</td>\n",
       "      <td>0.000000</td>\n",
       "      <td>0.0</td>\n",
       "      <td>0.0</td>\n",
       "      <td>0.0</td>\n",
       "      <td>0.0</td>\n",
       "      <td>0.0</td>\n",
       "      <td>0.0</td>\n",
       "    </tr>\n",
       "    <tr>\n",
       "      <th>1</th>\n",
       "      <td>0.044009</td>\n",
       "      <td>0</td>\n",
       "      <td>1</td>\n",
       "      <td>1</td>\n",
       "      <td>0.218423</td>\n",
       "      <td>-0.080284</td>\n",
       "      <td>-0.712143</td>\n",
       "      <td>-5.549292</td>\n",
       "      <td>9.641801</td>\n",
       "      <td>0.255</td>\n",
       "      <td>...</td>\n",
       "      <td>0.000000</td>\n",
       "      <td>0.000000</td>\n",
       "      <td>0.000000</td>\n",
       "      <td>0.000000</td>\n",
       "      <td>0.0</td>\n",
       "      <td>0.0</td>\n",
       "      <td>0.0</td>\n",
       "      <td>0.0</td>\n",
       "      <td>0.0</td>\n",
       "      <td>0.0</td>\n",
       "    </tr>\n",
       "    <tr>\n",
       "      <th>2</th>\n",
       "      <td>0.048720</td>\n",
       "      <td>0</td>\n",
       "      <td>1</td>\n",
       "      <td>1</td>\n",
       "      <td>0.218423</td>\n",
       "      <td>-0.080284</td>\n",
       "      <td>-0.712143</td>\n",
       "      <td>-5.549292</td>\n",
       "      <td>9.641801</td>\n",
       "      <td>0.255</td>\n",
       "      <td>...</td>\n",
       "      <td>0.026348</td>\n",
       "      <td>3.196264</td>\n",
       "      <td>1.804508</td>\n",
       "      <td>0.429969</td>\n",
       "      <td>0.0</td>\n",
       "      <td>0.0</td>\n",
       "      <td>0.0</td>\n",
       "      <td>0.0</td>\n",
       "      <td>0.0</td>\n",
       "      <td>0.0</td>\n",
       "    </tr>\n",
       "    <tr>\n",
       "      <th>3</th>\n",
       "      <td>0.054739</td>\n",
       "      <td>0</td>\n",
       "      <td>1</td>\n",
       "      <td>1</td>\n",
       "      <td>0.236574</td>\n",
       "      <td>-0.179088</td>\n",
       "      <td>-0.503643</td>\n",
       "      <td>9.798656</td>\n",
       "      <td>20.486938</td>\n",
       "      <td>2.739</td>\n",
       "      <td>...</td>\n",
       "      <td>0.026348</td>\n",
       "      <td>3.196264</td>\n",
       "      <td>1.804508</td>\n",
       "      <td>0.429969</td>\n",
       "      <td>0.0</td>\n",
       "      <td>0.0</td>\n",
       "      <td>0.0</td>\n",
       "      <td>0.0</td>\n",
       "      <td>0.0</td>\n",
       "      <td>0.0</td>\n",
       "    </tr>\n",
       "    <tr>\n",
       "      <th>4</th>\n",
       "      <td>0.059087</td>\n",
       "      <td>0</td>\n",
       "      <td>1</td>\n",
       "      <td>1</td>\n",
       "      <td>0.236574</td>\n",
       "      <td>-0.179088</td>\n",
       "      <td>-0.503643</td>\n",
       "      <td>9.798656</td>\n",
       "      <td>20.486938</td>\n",
       "      <td>2.739</td>\n",
       "      <td>...</td>\n",
       "      <td>0.102136</td>\n",
       "      <td>4.700885</td>\n",
       "      <td>6.458390</td>\n",
       "      <td>1.217789</td>\n",
       "      <td>0.0</td>\n",
       "      <td>0.0</td>\n",
       "      <td>0.0</td>\n",
       "      <td>0.0</td>\n",
       "      <td>0.0</td>\n",
       "      <td>0.0</td>\n",
       "    </tr>\n",
       "  </tbody>\n",
       "</table>\n",
       "<p>5 rows × 28 columns</p>\n",
       "</div>"
      ],
      "text/plain": [
       "       time  class.stage  class.success  class.type  scalar.fx  scalar.fy  \\\n",
       "0  0.000000            0              1           1   0.000000   0.000000   \n",
       "1  0.044009            0              1           1   0.218423  -0.080284   \n",
       "2  0.048720            0              1           1   0.218423  -0.080284   \n",
       "3  0.054739            0              1           1   0.236574  -0.179088   \n",
       "4  0.059087            0              1           1   0.236574  -0.179088   \n",
       "\n",
       "   scalar.fz  scalar.tx  scalar.ty  scalar.tz           ...            \\\n",
       "0   0.000000   0.000000   0.000000      0.000           ...             \n",
       "1  -0.712143  -5.549292   9.641801      0.255           ...             \n",
       "2  -0.712143  -5.549292   9.641801      0.255           ...             \n",
       "3  -0.503643   9.798656  20.486938      2.739           ...             \n",
       "4  -0.503643   9.798656  20.486938      2.739           ...             \n",
       "\n",
       "   scalar.fz_sd[0.3]  scalar.tx_sd[0.3]  scalar.ty_sd[0.3]  scalar.tz_sd[0.3]  \\\n",
       "0           0.000000           0.000000           0.000000           0.000000   \n",
       "1           0.000000           0.000000           0.000000           0.000000   \n",
       "2           0.026348           3.196264           1.804508           0.429969   \n",
       "3           0.026348           3.196264           1.804508           0.429969   \n",
       "4           0.102136           4.700885           6.458390           1.217789   \n",
       "\n",
       "   scalar.current  scalar.ang_vel  scalar.current_sma[0.3]  \\\n",
       "0             0.0             0.0                      0.0   \n",
       "1             0.0             0.0                      0.0   \n",
       "2             0.0             0.0                      0.0   \n",
       "3             0.0             0.0                      0.0   \n",
       "4             0.0             0.0                      0.0   \n",
       "\n",
       "   scalar.ang_vel_sma[0.3]  scalar.current_sd[0.3]  scalar.ang_vel_sd[0.3]  \n",
       "0                      0.0                     0.0                     0.0  \n",
       "1                      0.0                     0.0                     0.0  \n",
       "2                      0.0                     0.0                     0.0  \n",
       "3                      0.0                     0.0                     0.0  \n",
       "4                      0.0                     0.0                     0.0  \n",
       "\n",
       "[5 rows x 28 columns]"
      ]
     },
     "execution_count": 312,
     "metadata": {},
     "output_type": "execute_result"
    }
   ],
   "source": [
    "dfs[0].head(5)"
   ]
  },
  {
   "cell_type": "code",
   "execution_count": 313,
   "metadata": {},
   "outputs": [
    {
     "data": {
      "text/html": [
       "<div>\n",
       "<style scoped>\n",
       "    .dataframe tbody tr th:only-of-type {\n",
       "        vertical-align: middle;\n",
       "    }\n",
       "\n",
       "    .dataframe tbody tr th {\n",
       "        vertical-align: top;\n",
       "    }\n",
       "\n",
       "    .dataframe thead th {\n",
       "        text-align: right;\n",
       "    }\n",
       "</style>\n",
       "<table border=\"1\" class=\"dataframe\">\n",
       "  <thead>\n",
       "    <tr style=\"text-align: right;\">\n",
       "      <th></th>\n",
       "      <th>time</th>\n",
       "      <th>class.stage</th>\n",
       "      <th>class.success</th>\n",
       "      <th>class.type</th>\n",
       "      <th>scalar.fx</th>\n",
       "      <th>scalar.fy</th>\n",
       "      <th>scalar.fz</th>\n",
       "      <th>scalar.tx</th>\n",
       "      <th>scalar.ty</th>\n",
       "      <th>scalar.tz</th>\n",
       "      <th>...</th>\n",
       "      <th>scalar.fz_sd[0.3]</th>\n",
       "      <th>scalar.tx_sd[0.3]</th>\n",
       "      <th>scalar.ty_sd[0.3]</th>\n",
       "      <th>scalar.tz_sd[0.3]</th>\n",
       "      <th>scalar.current</th>\n",
       "      <th>scalar.ang_vel</th>\n",
       "      <th>scalar.current_sma[0.3]</th>\n",
       "      <th>scalar.ang_vel_sma[0.3]</th>\n",
       "      <th>scalar.current_sd[0.3]</th>\n",
       "      <th>scalar.ang_vel_sd[0.3]</th>\n",
       "    </tr>\n",
       "  </thead>\n",
       "  <tbody>\n",
       "    <tr>\n",
       "      <th>2079</th>\n",
       "      <td>12.602121</td>\n",
       "      <td>9</td>\n",
       "      <td>1</td>\n",
       "      <td>1</td>\n",
       "      <td>0.294390</td>\n",
       "      <td>-0.144972</td>\n",
       "      <td>0.020484</td>\n",
       "      <td>6.079564</td>\n",
       "      <td>23.921930</td>\n",
       "      <td>1.025</td>\n",
       "      <td>...</td>\n",
       "      <td>0.053050</td>\n",
       "      <td>4.629962</td>\n",
       "      <td>7.399710</td>\n",
       "      <td>0.077747</td>\n",
       "      <td>79.537117</td>\n",
       "      <td>59.137932</td>\n",
       "      <td>10.055333</td>\n",
       "      <td>67.777779</td>\n",
       "      <td>19.705233</td>\n",
       "      <td>2.401141</td>\n",
       "    </tr>\n",
       "    <tr>\n",
       "      <th>2080</th>\n",
       "      <td>12.612848</td>\n",
       "      <td>9</td>\n",
       "      <td>1</td>\n",
       "      <td>1</td>\n",
       "      <td>0.129503</td>\n",
       "      <td>-0.081472</td>\n",
       "      <td>0.149399</td>\n",
       "      <td>-3.026936</td>\n",
       "      <td>3.488761</td>\n",
       "      <td>0.960</td>\n",
       "      <td>...</td>\n",
       "      <td>0.054136</td>\n",
       "      <td>4.630539</td>\n",
       "      <td>7.522501</td>\n",
       "      <td>0.077810</td>\n",
       "      <td>79.537117</td>\n",
       "      <td>59.137932</td>\n",
       "      <td>10.055333</td>\n",
       "      <td>67.777779</td>\n",
       "      <td>19.705233</td>\n",
       "      <td>2.401141</td>\n",
       "    </tr>\n",
       "    <tr>\n",
       "      <th>2081</th>\n",
       "      <td>12.623182</td>\n",
       "      <td>9</td>\n",
       "      <td>1</td>\n",
       "      <td>1</td>\n",
       "      <td>0.251306</td>\n",
       "      <td>-0.106954</td>\n",
       "      <td>0.104298</td>\n",
       "      <td>-0.230002</td>\n",
       "      <td>20.200623</td>\n",
       "      <td>0.954</td>\n",
       "      <td>...</td>\n",
       "      <td>0.055324</td>\n",
       "      <td>4.598148</td>\n",
       "      <td>7.721436</td>\n",
       "      <td>0.077981</td>\n",
       "      <td>79.537117</td>\n",
       "      <td>59.137932</td>\n",
       "      <td>10.055333</td>\n",
       "      <td>67.777779</td>\n",
       "      <td>19.705233</td>\n",
       "      <td>2.401141</td>\n",
       "    </tr>\n",
       "    <tr>\n",
       "      <th>2082</th>\n",
       "      <td>12.633887</td>\n",
       "      <td>9</td>\n",
       "      <td>1</td>\n",
       "      <td>1</td>\n",
       "      <td>0.199294</td>\n",
       "      <td>-0.127574</td>\n",
       "      <td>0.125282</td>\n",
       "      <td>3.211938</td>\n",
       "      <td>10.245578</td>\n",
       "      <td>1.029</td>\n",
       "      <td>...</td>\n",
       "      <td>0.055823</td>\n",
       "      <td>4.594991</td>\n",
       "      <td>7.807427</td>\n",
       "      <td>0.078231</td>\n",
       "      <td>79.537117</td>\n",
       "      <td>59.137932</td>\n",
       "      <td>10.055333</td>\n",
       "      <td>67.777779</td>\n",
       "      <td>19.705233</td>\n",
       "      <td>2.401141</td>\n",
       "    </tr>\n",
       "    <tr>\n",
       "      <th>2083</th>\n",
       "      <td>12.644205</td>\n",
       "      <td>9</td>\n",
       "      <td>1</td>\n",
       "      <td>1</td>\n",
       "      <td>0.267947</td>\n",
       "      <td>-0.123256</td>\n",
       "      <td>0.048522</td>\n",
       "      <td>0.193272</td>\n",
       "      <td>21.915388</td>\n",
       "      <td>1.087</td>\n",
       "      <td>...</td>\n",
       "      <td>0.055942</td>\n",
       "      <td>4.648506</td>\n",
       "      <td>7.816956</td>\n",
       "      <td>0.078316</td>\n",
       "      <td>79.537117</td>\n",
       "      <td>59.137932</td>\n",
       "      <td>10.055333</td>\n",
       "      <td>67.777779</td>\n",
       "      <td>19.705233</td>\n",
       "      <td>2.401141</td>\n",
       "    </tr>\n",
       "  </tbody>\n",
       "</table>\n",
       "<p>5 rows × 28 columns</p>\n",
       "</div>"
      ],
      "text/plain": [
       "           time  class.stage  class.success  class.type  scalar.fx  scalar.fy  \\\n",
       "2079  12.602121            9              1           1   0.294390  -0.144972   \n",
       "2080  12.612848            9              1           1   0.129503  -0.081472   \n",
       "2081  12.623182            9              1           1   0.251306  -0.106954   \n",
       "2082  12.633887            9              1           1   0.199294  -0.127574   \n",
       "2083  12.644205            9              1           1   0.267947  -0.123256   \n",
       "\n",
       "      scalar.fz  scalar.tx  scalar.ty  scalar.tz           ...            \\\n",
       "2079   0.020484   6.079564  23.921930      1.025           ...             \n",
       "2080   0.149399  -3.026936   3.488761      0.960           ...             \n",
       "2081   0.104298  -0.230002  20.200623      0.954           ...             \n",
       "2082   0.125282   3.211938  10.245578      1.029           ...             \n",
       "2083   0.048522   0.193272  21.915388      1.087           ...             \n",
       "\n",
       "      scalar.fz_sd[0.3]  scalar.tx_sd[0.3]  scalar.ty_sd[0.3]  \\\n",
       "2079           0.053050           4.629962           7.399710   \n",
       "2080           0.054136           4.630539           7.522501   \n",
       "2081           0.055324           4.598148           7.721436   \n",
       "2082           0.055823           4.594991           7.807427   \n",
       "2083           0.055942           4.648506           7.816956   \n",
       "\n",
       "      scalar.tz_sd[0.3]  scalar.current  scalar.ang_vel  \\\n",
       "2079           0.077747       79.537117       59.137932   \n",
       "2080           0.077810       79.537117       59.137932   \n",
       "2081           0.077981       79.537117       59.137932   \n",
       "2082           0.078231       79.537117       59.137932   \n",
       "2083           0.078316       79.537117       59.137932   \n",
       "\n",
       "      scalar.current_sma[0.3]  scalar.ang_vel_sma[0.3]  \\\n",
       "2079                10.055333                67.777779   \n",
       "2080                10.055333                67.777779   \n",
       "2081                10.055333                67.777779   \n",
       "2082                10.055333                67.777779   \n",
       "2083                10.055333                67.777779   \n",
       "\n",
       "      scalar.current_sd[0.3]  scalar.ang_vel_sd[0.3]  \n",
       "2079               19.705233                2.401141  \n",
       "2080               19.705233                2.401141  \n",
       "2081               19.705233                2.401141  \n",
       "2082               19.705233                2.401141  \n",
       "2083               19.705233                2.401141  \n",
       "\n",
       "[5 rows x 28 columns]"
      ]
     },
     "execution_count": 313,
     "metadata": {},
     "output_type": "execute_result"
    }
   ],
   "source": [
    "dfs[0].tail(5)"
   ]
  },
  {
   "cell_type": "code",
   "execution_count": 203,
   "metadata": {
    "scrolled": true
   },
   "outputs": [
    {
     "data": {
      "text/plain": [
       "<matplotlib.axes._subplots.AxesSubplot at 0x7f018816d450>"
      ]
     },
     "execution_count": 203,
     "metadata": {},
     "output_type": "execute_result"
    },
    {
     "data": {
      "image/png": "[encoded data removed]",
      "text/plain": [
       "<matplotlib.figure.Figure at 0x7f0188da1ed0>"
      ]
     },
     "metadata": {},
     "output_type": "display_data"
    }
   ],
   "source": [
    "dfs[0].interpolate().plot()"
   ]
  },
  {
   "cell_type": "markdown",
   "metadata": {},
   "source": [
    "## Some statistics"
   ]
  },
  {
   "cell_type": "code",
   "execution_count": 204,
   "metadata": {
    "scrolled": true
   },
   "outputs": [
    {
     "data": {
      "text/html": [
       "<div>\n",
       "<style scoped>\n",
       "    .dataframe tbody tr th:only-of-type {\n",
       "        vertical-align: middle;\n",
       "    }\n",
       "\n",
       "    .dataframe tbody tr th {\n",
       "        vertical-align: top;\n",
       "    }\n",
       "\n",
       "    .dataframe thead th {\n",
       "        text-align: right;\n",
       "    }\n",
       "</style>\n",
       "<table border=\"1\" class=\"dataframe\">\n",
       "  <thead>\n",
       "    <tr style=\"text-align: right;\">\n",
       "      <th></th>\n",
       "      <th>scalar.fx</th>\n",
       "      <th>scalar.fy</th>\n",
       "      <th>scalar.fz</th>\n",
       "      <th>scalar.tx</th>\n",
       "      <th>scalar.ty</th>\n",
       "      <th>scalar.tz</th>\n",
       "      <th>scalar.current</th>\n",
       "      <th>scalar.ang_vel</th>\n",
       "    </tr>\n",
       "  </thead>\n",
       "  <tbody>\n",
       "    <tr>\n",
       "      <th>count</th>\n",
       "      <td>2084.000000</td>\n",
       "      <td>2084.000000</td>\n",
       "      <td>2084.000000</td>\n",
       "      <td>2084.000000</td>\n",
       "      <td>2084.000000</td>\n",
       "      <td>2084.000000</td>\n",
       "      <td>2084.000000</td>\n",
       "      <td>2084.000000</td>\n",
       "    </tr>\n",
       "    <tr>\n",
       "      <th>mean</th>\n",
       "      <td>0.113114</td>\n",
       "      <td>-1.346346</td>\n",
       "      <td>5.476660</td>\n",
       "      <td>-5.167106</td>\n",
       "      <td>24.404905</td>\n",
       "      <td>4.020081</td>\n",
       "      <td>9.706841</td>\n",
       "      <td>67.518863</td>\n",
       "    </tr>\n",
       "    <tr>\n",
       "      <th>std</th>\n",
       "      <td>0.486848</td>\n",
       "      <td>0.706955</td>\n",
       "      <td>3.064249</td>\n",
       "      <td>5.835924</td>\n",
       "      <td>8.036188</td>\n",
       "      <td>6.693049</td>\n",
       "      <td>23.804352</td>\n",
       "      <td>5.410341</td>\n",
       "    </tr>\n",
       "    <tr>\n",
       "      <th>min</th>\n",
       "      <td>-1.276666</td>\n",
       "      <td>-2.548844</td>\n",
       "      <td>-0.712143</td>\n",
       "      <td>-30.834291</td>\n",
       "      <td>-35.249496</td>\n",
       "      <td>-0.473000</td>\n",
       "      <td>-6.392606</td>\n",
       "      <td>0.000000</td>\n",
       "    </tr>\n",
       "    <tr>\n",
       "      <th>25%</th>\n",
       "      <td>-0.216951</td>\n",
       "      <td>-1.860305</td>\n",
       "      <td>3.613674</td>\n",
       "      <td>-8.929918</td>\n",
       "      <td>20.592451</td>\n",
       "      <td>1.134750</td>\n",
       "      <td>-0.882381</td>\n",
       "      <td>68.793106</td>\n",
       "    </tr>\n",
       "    <tr>\n",
       "      <th>50%</th>\n",
       "      <td>0.204268</td>\n",
       "      <td>-1.345932</td>\n",
       "      <td>5.654865</td>\n",
       "      <td>-6.276982</td>\n",
       "      <td>25.649468</td>\n",
       "      <td>2.193500</td>\n",
       "      <td>0.755794</td>\n",
       "      <td>68.965515</td>\n",
       "    </tr>\n",
       "    <tr>\n",
       "      <th>75%</th>\n",
       "      <td>0.423524</td>\n",
       "      <td>-0.974585</td>\n",
       "      <td>8.242234</td>\n",
       "      <td>-2.548276</td>\n",
       "      <td>29.687766</td>\n",
       "      <td>3.746000</td>\n",
       "      <td>3.287520</td>\n",
       "      <td>69.137932</td>\n",
       "    </tr>\n",
       "    <tr>\n",
       "      <th>max</th>\n",
       "      <td>1.649898</td>\n",
       "      <td>0.000000</td>\n",
       "      <td>10.681504</td>\n",
       "      <td>21.756088</td>\n",
       "      <td>57.659100</td>\n",
       "      <td>90.290001</td>\n",
       "      <td>79.537117</td>\n",
       "      <td>70.000000</td>\n",
       "    </tr>\n",
       "  </tbody>\n",
       "</table>\n",
       "</div>"
      ],
      "text/plain": [
       "         scalar.fx    scalar.fy    scalar.fz    scalar.tx    scalar.ty  \\\n",
       "count  2084.000000  2084.000000  2084.000000  2084.000000  2084.000000   \n",
       "mean      0.113114    -1.346346     5.476660    -5.167106    24.404905   \n",
       "std       0.486848     0.706955     3.064249     5.835924     8.036188   \n",
       "min      -1.276666    -2.548844    -0.712143   -30.834291   -35.249496   \n",
       "25%      -0.216951    -1.860305     3.613674    -8.929918    20.592451   \n",
       "50%       0.204268    -1.345932     5.654865    -6.276982    25.649468   \n",
       "75%       0.423524    -0.974585     8.242234    -2.548276    29.687766   \n",
       "max       1.649898     0.000000    10.681504    21.756088    57.659100   \n",
       "\n",
       "         scalar.tz  scalar.current  scalar.ang_vel  \n",
       "count  2084.000000     2084.000000     2084.000000  \n",
       "mean      4.020081        9.706841       67.518863  \n",
       "std       6.693049       23.804352        5.410341  \n",
       "min      -0.473000       -6.392606        0.000000  \n",
       "25%       1.134750       -0.882381       68.793106  \n",
       "50%       2.193500        0.755794       68.965515  \n",
       "75%       3.746000        3.287520       69.137932  \n",
       "max      90.290001       79.537117       70.000000  "
      ]
     },
     "execution_count": 204,
     "metadata": {},
     "output_type": "execute_result"
    }
   ],
   "source": [
    "dfs[0].loc[:, original_features].describe()"
   ]
  },
  {
   "cell_type": "markdown",
   "metadata": {},
   "source": [
    "## Get the longest and shortest sequences"
   ]
  },
  {
   "cell_type": "code",
   "execution_count": 205,
   "metadata": {
    "scrolled": true
   },
   "outputs": [],
   "source": [
    "longest_len = max(dfs, key=lambda df: df.shape[0]).shape[0]\n",
    "shorted_len = min(dfs, key=lambda df: df.shape[0]).shape[0]"
   ]
  },
  {
   "cell_type": "markdown",
   "metadata": {},
   "source": [
    "## Pad 0 after each sequence to match the longest"
   ]
  },
  {
   "cell_type": "code",
   "execution_count": 206,
   "metadata": {},
   "outputs": [],
   "source": [
    "def post_pad(df, longest_len, pad_value=0.0):\n",
    "    \"\"\"pad 0 after each sequence to match the longest\n",
    "    return a new dataframe\"\"\"\n",
    "    df = dfs[0]\n",
    "    features = list(df)\n",
    "    height = longest_len - df.shape[0]\n",
    "    df_pad = pd.DataFrame(pad_value, index=np.arange(height), columns=features)\n",
    "    return pd.concat([df, df_pad])"
   ]
  },
  {
   "cell_type": "code",
   "execution_count": 315,
   "metadata": {
    "scrolled": true
   },
   "outputs": [
    {
     "data": {
      "text/html": [
       "<div>\n",
       "<style scoped>\n",
       "    .dataframe tbody tr th:only-of-type {\n",
       "        vertical-align: middle;\n",
       "    }\n",
       "\n",
       "    .dataframe tbody tr th {\n",
       "        vertical-align: top;\n",
       "    }\n",
       "\n",
       "    .dataframe thead th {\n",
       "        text-align: right;\n",
       "    }\n",
       "</style>\n",
       "<table border=\"1\" class=\"dataframe\">\n",
       "  <thead>\n",
       "    <tr style=\"text-align: right;\">\n",
       "      <th></th>\n",
       "      <th>time</th>\n",
       "      <th>class.stage</th>\n",
       "      <th>class.success</th>\n",
       "      <th>class.type</th>\n",
       "      <th>scalar.fx</th>\n",
       "      <th>scalar.fy</th>\n",
       "      <th>scalar.fz</th>\n",
       "      <th>scalar.tx</th>\n",
       "      <th>scalar.ty</th>\n",
       "      <th>scalar.tz</th>\n",
       "      <th>...</th>\n",
       "      <th>scalar.fz_sd[0.3]</th>\n",
       "      <th>scalar.tx_sd[0.3]</th>\n",
       "      <th>scalar.ty_sd[0.3]</th>\n",
       "      <th>scalar.tz_sd[0.3]</th>\n",
       "      <th>scalar.current</th>\n",
       "      <th>scalar.ang_vel</th>\n",
       "      <th>scalar.current_sma[0.3]</th>\n",
       "      <th>scalar.ang_vel_sma[0.3]</th>\n",
       "      <th>scalar.current_sd[0.3]</th>\n",
       "      <th>scalar.ang_vel_sd[0.3]</th>\n",
       "    </tr>\n",
       "  </thead>\n",
       "  <tbody>\n",
       "    <tr>\n",
       "      <th>0</th>\n",
       "      <td>0.000000</td>\n",
       "      <td>0.0</td>\n",
       "      <td>1.0</td>\n",
       "      <td>1.0</td>\n",
       "      <td>0.000000</td>\n",
       "      <td>0.000000</td>\n",
       "      <td>0.000000</td>\n",
       "      <td>0.000000</td>\n",
       "      <td>0.000000</td>\n",
       "      <td>0.000</td>\n",
       "      <td>...</td>\n",
       "      <td>0.000000</td>\n",
       "      <td>0.000000</td>\n",
       "      <td>0.000000</td>\n",
       "      <td>0.000000</td>\n",
       "      <td>0.0</td>\n",
       "      <td>0.0</td>\n",
       "      <td>0.0</td>\n",
       "      <td>0.0</td>\n",
       "      <td>0.0</td>\n",
       "      <td>0.0</td>\n",
       "    </tr>\n",
       "    <tr>\n",
       "      <th>1</th>\n",
       "      <td>0.044009</td>\n",
       "      <td>0.0</td>\n",
       "      <td>1.0</td>\n",
       "      <td>1.0</td>\n",
       "      <td>0.218423</td>\n",
       "      <td>-0.080284</td>\n",
       "      <td>-0.712143</td>\n",
       "      <td>-5.549292</td>\n",
       "      <td>9.641801</td>\n",
       "      <td>0.255</td>\n",
       "      <td>...</td>\n",
       "      <td>0.000000</td>\n",
       "      <td>0.000000</td>\n",
       "      <td>0.000000</td>\n",
       "      <td>0.000000</td>\n",
       "      <td>0.0</td>\n",
       "      <td>0.0</td>\n",
       "      <td>0.0</td>\n",
       "      <td>0.0</td>\n",
       "      <td>0.0</td>\n",
       "      <td>0.0</td>\n",
       "    </tr>\n",
       "    <tr>\n",
       "      <th>2</th>\n",
       "      <td>0.048720</td>\n",
       "      <td>0.0</td>\n",
       "      <td>1.0</td>\n",
       "      <td>1.0</td>\n",
       "      <td>0.218423</td>\n",
       "      <td>-0.080284</td>\n",
       "      <td>-0.712143</td>\n",
       "      <td>-5.549292</td>\n",
       "      <td>9.641801</td>\n",
       "      <td>0.255</td>\n",
       "      <td>...</td>\n",
       "      <td>0.026348</td>\n",
       "      <td>3.196264</td>\n",
       "      <td>1.804508</td>\n",
       "      <td>0.429969</td>\n",
       "      <td>0.0</td>\n",
       "      <td>0.0</td>\n",
       "      <td>0.0</td>\n",
       "      <td>0.0</td>\n",
       "      <td>0.0</td>\n",
       "      <td>0.0</td>\n",
       "    </tr>\n",
       "    <tr>\n",
       "      <th>3</th>\n",
       "      <td>0.054739</td>\n",
       "      <td>0.0</td>\n",
       "      <td>1.0</td>\n",
       "      <td>1.0</td>\n",
       "      <td>0.236574</td>\n",
       "      <td>-0.179088</td>\n",
       "      <td>-0.503643</td>\n",
       "      <td>9.798656</td>\n",
       "      <td>20.486938</td>\n",
       "      <td>2.739</td>\n",
       "      <td>...</td>\n",
       "      <td>0.026348</td>\n",
       "      <td>3.196264</td>\n",
       "      <td>1.804508</td>\n",
       "      <td>0.429969</td>\n",
       "      <td>0.0</td>\n",
       "      <td>0.0</td>\n",
       "      <td>0.0</td>\n",
       "      <td>0.0</td>\n",
       "      <td>0.0</td>\n",
       "      <td>0.0</td>\n",
       "    </tr>\n",
       "    <tr>\n",
       "      <th>4</th>\n",
       "      <td>0.059087</td>\n",
       "      <td>0.0</td>\n",
       "      <td>1.0</td>\n",
       "      <td>1.0</td>\n",
       "      <td>0.236574</td>\n",
       "      <td>-0.179088</td>\n",
       "      <td>-0.503643</td>\n",
       "      <td>9.798656</td>\n",
       "      <td>20.486938</td>\n",
       "      <td>2.739</td>\n",
       "      <td>...</td>\n",
       "      <td>0.102136</td>\n",
       "      <td>4.700885</td>\n",
       "      <td>6.458390</td>\n",
       "      <td>1.217789</td>\n",
       "      <td>0.0</td>\n",
       "      <td>0.0</td>\n",
       "      <td>0.0</td>\n",
       "      <td>0.0</td>\n",
       "      <td>0.0</td>\n",
       "      <td>0.0</td>\n",
       "    </tr>\n",
       "  </tbody>\n",
       "</table>\n",
       "<p>5 rows × 28 columns</p>\n",
       "</div>"
      ],
      "text/plain": [
       "       time  class.stage  class.success  class.type  scalar.fx  scalar.fy  \\\n",
       "0  0.000000          0.0            1.0         1.0   0.000000   0.000000   \n",
       "1  0.044009          0.0            1.0         1.0   0.218423  -0.080284   \n",
       "2  0.048720          0.0            1.0         1.0   0.218423  -0.080284   \n",
       "3  0.054739          0.0            1.0         1.0   0.236574  -0.179088   \n",
       "4  0.059087          0.0            1.0         1.0   0.236574  -0.179088   \n",
       "\n",
       "   scalar.fz  scalar.tx  scalar.ty  scalar.tz           ...            \\\n",
       "0   0.000000   0.000000   0.000000      0.000           ...             \n",
       "1  -0.712143  -5.549292   9.641801      0.255           ...             \n",
       "2  -0.712143  -5.549292   9.641801      0.255           ...             \n",
       "3  -0.503643   9.798656  20.486938      2.739           ...             \n",
       "4  -0.503643   9.798656  20.486938      2.739           ...             \n",
       "\n",
       "   scalar.fz_sd[0.3]  scalar.tx_sd[0.3]  scalar.ty_sd[0.3]  scalar.tz_sd[0.3]  \\\n",
       "0           0.000000           0.000000           0.000000           0.000000   \n",
       "1           0.000000           0.000000           0.000000           0.000000   \n",
       "2           0.026348           3.196264           1.804508           0.429969   \n",
       "3           0.026348           3.196264           1.804508           0.429969   \n",
       "4           0.102136           4.700885           6.458390           1.217789   \n",
       "\n",
       "   scalar.current  scalar.ang_vel  scalar.current_sma[0.3]  \\\n",
       "0             0.0             0.0                      0.0   \n",
       "1             0.0             0.0                      0.0   \n",
       "2             0.0             0.0                      0.0   \n",
       "3             0.0             0.0                      0.0   \n",
       "4             0.0             0.0                      0.0   \n",
       "\n",
       "   scalar.ang_vel_sma[0.3]  scalar.current_sd[0.3]  scalar.ang_vel_sd[0.3]  \n",
       "0                      0.0                     0.0                     0.0  \n",
       "1                      0.0                     0.0                     0.0  \n",
       "2                      0.0                     0.0                     0.0  \n",
       "3                      0.0                     0.0                     0.0  \n",
       "4                      0.0                     0.0                     0.0  \n",
       "\n",
       "[5 rows x 28 columns]"
      ]
     },
     "execution_count": 315,
     "metadata": {},
     "output_type": "execute_result"
    }
   ],
   "source": [
    "df_full = post_pad(dfs[0], longest_len=longest_len)\n",
    "df_full.head(5)"
   ]
  },
  {
   "cell_type": "markdown",
   "metadata": {},
   "source": [
    "## Convert dataframe list to a ndarray of dimension N x H x W "
   ]
  },
  {
   "cell_type": "code",
   "execution_count": 208,
   "metadata": {},
   "outputs": [],
   "source": [
    "X = np.zeros((len(dfs), longest_len, len(original_features)))\n",
    "for df, d_arr in zip(dfs, X):\n",
    "    df_f = post_pad(df, longest_len=longest_len)\n",
    "    d_arr = df_f.as_matrix(columns=original_features)"
   ]
  },
  {
   "cell_type": "code",
   "execution_count": 209,
   "metadata": {
    "scrolled": true
   },
   "outputs": [
    {
     "data": {
      "text/plain": [
       "(1862, 4479, 8)"
      ]
     },
     "execution_count": 209,
     "metadata": {},
     "output_type": "execute_result"
    }
   ],
   "source": [
    "X.shape"
   ]
  },
  {
   "cell_type": "markdown",
   "metadata": {},
   "source": [
    "## Dependent variables"
   ]
  },
  {
   "cell_type": "markdown",
   "metadata": {},
   "source": [
    "### Type classification\n",
    "\n",
    "**Note** The class starts from 0 instead of 1."
   ]
  },
  {
   "cell_type": "code",
   "execution_count": 231,
   "metadata": {},
   "outputs": [],
   "source": [
    "dependent_feature = 'class.type'\n",
    "Y = np.zeros((len(dfs), 1))\n",
    "offset = 1\n",
    "for idx, df in enumerate(dfs):\n",
    "    Y[idx] = df[dependent_feature].iloc[-1] - offset"
   ]
  },
  {
   "cell_type": "code",
   "execution_count": 232,
   "metadata": {},
   "outputs": [
    {
     "name": "stdout",
     "output_type": "stream",
     "text": [
      "('num_classes =', 7)\n"
     ]
    }
   ],
   "source": [
    "num_classes = len(np.unique(Y))\n",
    "print('num_classes =', num_classes)\n",
    "Y=keras.utils.to_categorical(Y, num_classes=num_classes)"
   ]
  },
  {
   "cell_type": "markdown",
   "metadata": {},
   "source": [
    "### Stage classification\n",
    "**Note** the class starts from 0 instead of 1."
   ]
  },
  {
   "cell_type": "code",
   "execution_count": 245,
   "metadata": {},
   "outputs": [],
   "source": [
    "dependent_feature = 'class.stage'\n",
    "Y2 = np.zeros((len(dfs), 1))\n",
    "offset = 1\n",
    "for idx, df in enumerate(dfs):\n",
    "    Y2[idx] = df[dependent_feature].iloc[-1] - offset"
   ]
  },
  {
   "cell_type": "code",
   "execution_count": 246,
   "metadata": {},
   "outputs": [
    {
     "data": {
      "text/plain": [
       "array([ 0.,  2.,  3.,  4.,  5.,  7.,  8.])"
      ]
     },
     "execution_count": 246,
     "metadata": {},
     "output_type": "execute_result"
    }
   ],
   "source": [
    "np.unique(Y2)"
   ]
  },
  {
   "cell_type": "code",
   "execution_count": 247,
   "metadata": {},
   "outputs": [
    {
     "name": "stdout",
     "output_type": "stream",
     "text": [
      "('num_stage_classes =', 9)\n"
     ]
    }
   ],
   "source": [
    "num_stage_classes = int(Y2.max() - Y2.min() + 1)\n",
    "print('num_stage_classes =', num_stage_classes)\n",
    "Y2=keras.utils.to_categorical(Y2, num_classes=num_stage_classes)"
   ]
  },
  {
   "cell_type": "markdown",
   "metadata": {},
   "source": [
    "# Split the data to train, validation and test\n",
    "\n",
    "* train = 60%\n",
    "* validation = 20%\n",
    "* test = 20%"
   ]
  },
  {
   "cell_type": "code",
   "execution_count": 248,
   "metadata": {},
   "outputs": [],
   "source": [
    "x_train, x_validate, x_test = np.split(X, [int(.6*len(X)), int(.8*len(X))])\n",
    "y_train, y_validate, y_test = np.split(Y, [int(.6*len(Y)), int(.8*len(Y))])\n",
    "y2_train, y2_validate, y2_test = np.split(Y2, [int(.6*len(Y2)), int(.8*len(Y2))])"
   ]
  },
  {
   "cell_type": "code",
   "execution_count": 272,
   "metadata": {},
   "outputs": [
    {
     "name": "stdout",
     "output_type": "stream",
     "text": [
      "('x_train.shape=', (1117, 4479, 8), ' y_train.shape=', (1117, 7), ' y2_train.shape=', (1117, 9))\n"
     ]
    }
   ],
   "source": [
    "print('x_train.shape=', x_train.shape, ' y_train.shape=', y_train.shapeape, ' y2_train.shape=', y2_train.shape)"
   ]
  },
  {
   "cell_type": "markdown",
   "metadata": {},
   "source": [
    "# Train a type classification model with LSTM"
   ]
  },
  {
   "cell_type": "code",
   "execution_count": 269,
   "metadata": {},
   "outputs": [
    {
     "name": "stdout",
     "output_type": "stream",
     "text": [
      "Train on 1117 samples, validate on 372 samples\n",
      "Epoch 1/2\n",
      "1117/1117 [==============================] - 197s 176ms/step - loss: 0.9759 - acc: 0.8433 - val_loss: 0.5336 - val_acc: 0.8683\n",
      "Epoch 2/2\n",
      "1117/1117 [==============================] - 195s 175ms/step - loss: 0.6362 - acc: 0.8433 - val_loss: 0.5260 - val_acc: 0.8683\n",
      "CPU times: user 9min 26s, sys: 0 ns, total: 9min 26s\n",
      "Wall time: 6min 33s\n"
     ]
    }
   ],
   "source": [
    "%%time\n",
    "\n",
    "data_dim = x_train.shape[2]\n",
    "timesteps = x_train.shape[1]\n",
    "num_epochs = 2\n",
    "batch_size = 64\n",
    "\n",
    "layers = [LSTM(batch_size, return_sequences=True,\n",
    "               input_shape=(timesteps, data_dim)), \n",
    "         LSTM(batch_size, return_sequences=True),\n",
    "         LSTM(batch_size),\n",
    "         Dense(num_classes, activation='softmax')]\n",
    "\n",
    "# expected input data shape: (batch_size, timesteps, data_dim)\n",
    "model = Sequential(layers)\n",
    "\n",
    "model.compile(loss='categorical_crossentropy',\n",
    "              optimizer='rmsprop',\n",
    "              metrics=['accuracy'])\n",
    "\n",
    "history = model.fit(x_train, y_train,\n",
    "          batch_size=batch_size, epochs=num_epochs,\n",
    "          validation_data=(x_validate, y_validate))"
   ]
  },
  {
   "cell_type": "markdown",
   "metadata": {},
   "source": [
    "## View training history"
   ]
  },
  {
   "cell_type": "code",
   "execution_count": 265,
   "metadata": {},
   "outputs": [],
   "source": [
    "def plot_history(history):\n",
    "    # summarize history for accuracy\n",
    "    plt.plot(history.history['acc'])\n",
    "    plt.plot(history.history['val_acc'])\n",
    "    plt.title('model accuracy')\n",
    "    plt.ylabel('accuracy')\n",
    "    plt.xlabel('epoch')\n",
    "    plt.legend(['train', 'validate'], loc='upper left')\n",
    "    plt.show()\n",
    "    \n",
    "    # summarize history for loss\n",
    "    plt.plot(history.history['loss'])\n",
    "    plt.plot(history.history['val_loss'])\n",
    "    plt.title('model loss')\n",
    "    plt.ylabel('loss')\n",
    "    plt.xlabel('epoch')\n",
    "    plt.legend(['train', 'validate'], loc='upper left')\n",
    "    plt.show()"
   ]
  },
  {
   "cell_type": "code",
   "execution_count": 270,
   "metadata": {},
   "outputs": [
    {
     "data": {
      "image/png": "[encoded data removed]",
      "text/plain": [
       "<matplotlib.figure.Figure at 0x7f01581c1f10>"
      ]
     },
     "metadata": {},
     "output_type": "display_data"
    },
    {
     "data": {
      "image/png": "[encoded data removed]",
      "text/plain": [
       "<matplotlib.figure.Figure at 0x7f01581716d0>"
      ]
     },
     "metadata": {},
     "output_type": "display_data"
    }
   ],
   "source": [
    "plot_history(history)"
   ]
  },
  {
   "cell_type": "markdown",
   "metadata": {},
   "source": [
    "## Save the model\n",
    "include the model and its weights"
   ]
  },
  {
   "cell_type": "code",
   "execution_count": 276,
   "metadata": {},
   "outputs": [],
   "source": [
    "def save_model(model, model_filename=\"models/type_lstm.json\", weights_file_name=\"models/type_lstm.h5\"):\n",
    "    # serialize model to JSON\n",
    "    model_json = model.to_json()\n",
    "    with open(model_filename, \"w\") as json_file:\n",
    "        json_file.write(model_json)\n",
    "    # serialize weights to HDF5\n",
    "    model.save_weights(weights_file_name)\n",
    "    print(\"Saved the model to disk\")"
   ]
  },
  {
   "cell_type": "code",
   "execution_count": 277,
   "metadata": {},
   "outputs": [
    {
     "name": "stdout",
     "output_type": "stream",
     "text": [
      "Saved the model to disk\n"
     ]
    }
   ],
   "source": [
    "save_model(model, \"models/type_lstm.json\", \"models/type_lstm.h5\")"
   ]
  },
  {
   "cell_type": "markdown",
   "metadata": {},
   "source": [
    "## Use the saved model to predict on new data"
   ]
  },
  {
   "cell_type": "code",
   "execution_count": 283,
   "metadata": {},
   "outputs": [],
   "source": [
    "def load_model(model_filename='models/type_lstm.json', weights_filename=\"models/type_lstm.h5\"):\n",
    "    # load json and create model\n",
    "    json_file = open(model_filename, 'r')\n",
    "    loaded_model_json = json_file.read()\n",
    "    json_file.close()\n",
    "    loaded_model = model_from_json(loaded_model_json)\n",
    "    # load weights into new model\n",
    "    loaded_model.load_weights(weights_filename)\n",
    "    print(\"Loaded the model from disk\")\n",
    "    \n",
    "    return loaded_model"
   ]
  },
  {
   "cell_type": "code",
   "execution_count": 289,
   "metadata": {},
   "outputs": [
    {
     "name": "stdout",
     "output_type": "stream",
     "text": [
      "Loaded the model from disk\n"
     ]
    }
   ],
   "source": [
    "model = load_model('models/type_lstm.json', \"models/type_lstm.h5\")"
   ]
  },
  {
   "cell_type": "markdown",
   "metadata": {},
   "source": [
    "## We need to compile the model before use it"
   ]
  },
  {
   "cell_type": "code",
   "execution_count": 292,
   "metadata": {},
   "outputs": [],
   "source": [
    "model.compile(loss='categorical_crossentropy',\n",
    "              optimizer='rmsprop',\n",
    "              metrics=['accuracy'])"
   ]
  },
  {
   "cell_type": "markdown",
   "metadata": {},
   "source": [
    "## Evaluation"
   ]
  },
  {
   "cell_type": "markdown",
   "metadata": {},
   "source": [
    "display labels for the scalar outputs"
   ]
  },
  {
   "cell_type": "code",
   "execution_count": 294,
   "metadata": {},
   "outputs": [
    {
     "data": {
      "text/plain": [
       "['loss', 'acc']"
      ]
     },
     "execution_count": 294,
     "metadata": {},
     "output_type": "execute_result"
    }
   ],
   "source": [
    "model.metrics_names"
   ]
  },
  {
   "cell_type": "code",
   "execution_count": 295,
   "metadata": {},
   "outputs": [
    {
     "name": "stdout",
     "output_type": "stream",
     "text": [
      "373/373 [==============================] - 13s 35ms/step\n"
     ]
    }
   ],
   "source": [
    "score = model.evaluate(x_test, y_test, batch_size=64)"
   ]
  },
  {
   "cell_type": "code",
   "execution_count": 296,
   "metadata": {},
   "outputs": [
    {
     "data": {
      "text/plain": [
       "[0.66744910600038376, 0.82841823631572975]"
      ]
     },
     "execution_count": 296,
     "metadata": {},
     "output_type": "execute_result"
    }
   ],
   "source": [
    "score"
   ]
  },
  {
   "cell_type": "markdown",
   "metadata": {},
   "source": [
    "## Predict\n",
    "\n",
    "**Remember** The classes are 0 to 6 instead of 1 to 7."
   ]
  },
  {
   "cell_type": "code",
   "execution_count": 297,
   "metadata": {},
   "outputs": [
    {
     "name": "stdout",
     "output_type": "stream",
     "text": [
      "CPU times: user 25.3 s, sys: 0 ns, total: 25.3 s\n",
      "Wall time: 25.1 s\n"
     ]
    }
   ],
   "source": [
    "%%time\n",
    "y_hat = model.predict(x_test)"
   ]
  },
  {
   "cell_type": "markdown",
   "metadata": {},
   "source": [
    "### Prediction results are the probability of each class"
   ]
  },
  {
   "cell_type": "code",
   "execution_count": 298,
   "metadata": {},
   "outputs": [
    {
     "data": {
      "text/plain": [
       "(373, 7)"
      ]
     },
     "execution_count": 298,
     "metadata": {},
     "output_type": "execute_result"
    }
   ],
   "source": [
    "y_hat.shape"
   ]
  },
  {
   "cell_type": "code",
   "execution_count": 299,
   "metadata": {},
   "outputs": [
    {
     "data": {
      "text/plain": [
       "array([[ 0.89689052,  0.06203213,  0.01903552, ...,  0.00295608,\n",
       "         0.00427565,  0.00620248],\n",
       "       [ 0.89689052,  0.06203213,  0.01903552, ...,  0.00295608,\n",
       "         0.00427565,  0.00620248],\n",
       "       [ 0.89689052,  0.06203213,  0.01903552, ...,  0.00295608,\n",
       "         0.00427565,  0.00620248],\n",
       "       ..., \n",
       "       [ 0.89689052,  0.06203213,  0.01903552, ...,  0.00295608,\n",
       "         0.00427565,  0.00620248],\n",
       "       [ 0.89689052,  0.06203213,  0.01903552, ...,  0.00295608,\n",
       "         0.00427565,  0.00620248],\n",
       "       [ 0.89689052,  0.06203213,  0.01903552, ...,  0.00295608,\n",
       "         0.00427565,  0.00620248]], dtype=float32)"
      ]
     },
     "execution_count": 299,
     "metadata": {},
     "output_type": "execute_result"
    }
   ],
   "source": [
    "y_hat"
   ]
  },
  {
   "cell_type": "markdown",
   "metadata": {},
   "source": [
    "# Train a stage classification model with LSTM"
   ]
  },
  {
   "cell_type": "code",
   "execution_count": 251,
   "metadata": {},
   "outputs": [
    {
     "name": "stdout",
     "output_type": "stream",
     "text": [
      "Train on 1117 samples, validate on 372 samples\n",
      "Epoch 1/2\n",
      "1117/1117 [==============================] - 194s 174ms/step - loss: 0.9458 - acc: 0.8138 - val_loss: 0.4883 - val_acc: 0.8817\n",
      "Epoch 2/2\n",
      "1117/1117 [==============================] - 194s 173ms/step - loss: 0.5631 - acc: 0.8630 - val_loss: 0.4934 - val_acc: 0.8817\n",
      "CPU times: user 9min 14s, sys: 0 ns, total: 9min 14s\n",
      "Wall time: 6min 29s\n"
     ]
    }
   ],
   "source": [
    "%%time\n",
    "\n",
    "data_dim = x_train.shape[2]\n",
    "timesteps = x_train.shape[1]\n",
    "num_epochs = 2\n",
    "batch_size = 64\n",
    "\n",
    "layers = [LSTM(batch_size, return_sequences=True,\n",
    "               input_shape=(timesteps, data_dim)), \n",
    "         LSTM(batch_size, return_sequences=True),\n",
    "         LSTM(batch_size),\n",
    "         Dense(num_stage_classes, activation='softmax')]\n",
    "\n",
    "# expected input data shape: (batch_size, timesteps, data_dim)\n",
    "model2 = Sequential(layers)\n",
    "\n",
    "model2.compile(loss='categorical_crossentropy',\n",
    "              optimizer='rmsprop',\n",
    "              metrics=['accuracy'])\n",
    "\n",
    "history2 = model2.fit(x_train, y2_train,\n",
    "          batch_size=batch_size, epochs=num_epochs,\n",
    "          validation_data=(x_validate, y2_validate))"
   ]
  },
  {
   "cell_type": "markdown",
   "metadata": {},
   "source": [
    "## View training history"
   ]
  },
  {
   "cell_type": "code",
   "execution_count": 267,
   "metadata": {},
   "outputs": [
    {
     "data": {
      "image/png": "[encoded data removed]",
      "text/plain": [
       "<matplotlib.figure.Figure at 0x7f015d1df290>"
      ]
     },
     "metadata": {},
     "output_type": "display_data"
    },
    {
     "data": {
      "image/png": "[encoded data removed]",
      "text/plain": [
       "<matplotlib.figure.Figure at 0x7f018409c710>"
      ]
     },
     "metadata": {},
     "output_type": "display_data"
    }
   ],
   "source": [
    "plot_history(history2)"
   ]
  },
  {
   "cell_type": "markdown",
   "metadata": {},
   "source": [
    "## Save the model\n",
    "include the model and its weights"
   ]
  },
  {
   "cell_type": "code",
   "execution_count": 300,
   "metadata": {},
   "outputs": [
    {
     "name": "stdout",
     "output_type": "stream",
     "text": [
      "Saved the model to disk\n"
     ]
    }
   ],
   "source": [
    "save_model(model2, \"models/stage_lstm.json\", \"models/stage_lstm.h5\")"
   ]
  },
  {
   "cell_type": "markdown",
   "metadata": {},
   "source": [
    "## Use the saved model to predict on new data"
   ]
  },
  {
   "cell_type": "code",
   "execution_count": 301,
   "metadata": {},
   "outputs": [
    {
     "name": "stdout",
     "output_type": "stream",
     "text": [
      "Loaded the model from disk\n"
     ]
    }
   ],
   "source": [
    "model2 = load_model('models/stage_lstm.json', \"models/stage_lstm.h5\")"
   ]
  },
  {
   "cell_type": "markdown",
   "metadata": {},
   "source": [
    "## We need to compile the model before use it"
   ]
  },
  {
   "cell_type": "code",
   "execution_count": 302,
   "metadata": {},
   "outputs": [],
   "source": [
    "model2.compile(loss='categorical_crossentropy',\n",
    "              optimizer='rmsprop',\n",
    "              metrics=['accuracy'])"
   ]
  },
  {
   "cell_type": "markdown",
   "metadata": {},
   "source": [
    "## Evaluation"
   ]
  },
  {
   "cell_type": "markdown",
   "metadata": {},
   "source": [
    "display labels for the scalar outputs"
   ]
  },
  {
   "cell_type": "code",
   "execution_count": 306,
   "metadata": {},
   "outputs": [
    {
     "data": {
      "text/plain": [
       "['loss', 'acc']"
      ]
     },
     "execution_count": 306,
     "metadata": {},
     "output_type": "execute_result"
    }
   ],
   "source": [
    "model2.metrics_names"
   ]
  },
  {
   "cell_type": "code",
   "execution_count": 307,
   "metadata": {},
   "outputs": [
    {
     "name": "stdout",
     "output_type": "stream",
     "text": [
      "373/373 [==============================] - 13s 35ms/step\n"
     ]
    }
   ],
   "source": [
    "score = model2.evaluate(x_test, y2_test, batch_size=64)"
   ]
  },
  {
   "cell_type": "code",
   "execution_count": 308,
   "metadata": {},
   "outputs": [
    {
     "data": {
      "text/plain": [
       "[0.59648381864736932, 0.84450402512307465]"
      ]
     },
     "execution_count": 308,
     "metadata": {},
     "output_type": "execute_result"
    }
   ],
   "source": [
    "score"
   ]
  },
  {
   "cell_type": "markdown",
   "metadata": {},
   "source": [
    "## Predict\n",
    "\n",
    "**Remember** The classes are 0 to 6 instead of 1 to 7."
   ]
  },
  {
   "cell_type": "code",
   "execution_count": 309,
   "metadata": {},
   "outputs": [
    {
     "name": "stdout",
     "output_type": "stream",
     "text": [
      "CPU times: user 25.7 s, sys: 0 ns, total: 25.7 s\n",
      "Wall time: 25.5 s\n"
     ]
    }
   ],
   "source": [
    "%%time\n",
    "y2_hat = model2.predict(x_test)"
   ]
  },
  {
   "cell_type": "markdown",
   "metadata": {},
   "source": [
    "### Prediction results are the probability of each class"
   ]
  },
  {
   "cell_type": "code",
   "execution_count": 310,
   "metadata": {},
   "outputs": [
    {
     "data": {
      "text/plain": [
       "(373, 9)"
      ]
     },
     "execution_count": 310,
     "metadata": {},
     "output_type": "execute_result"
    }
   ],
   "source": [
    "y2_hat.shape"
   ]
  },
  {
   "cell_type": "code",
   "execution_count": 311,
   "metadata": {},
   "outputs": [
    {
     "data": {
      "text/plain": [
       "array([[ 0.01365919,  0.00189228,  0.16177613, ...,  0.00223439,\n",
       "         0.01046928,  0.77538913],\n",
       "       [ 0.01365919,  0.00189228,  0.16177613, ...,  0.00223439,\n",
       "         0.01046928,  0.77538913],\n",
       "       [ 0.01365919,  0.00189228,  0.16177613, ...,  0.00223439,\n",
       "         0.01046928,  0.77538913],\n",
       "       ..., \n",
       "       [ 0.01365919,  0.00189228,  0.16177613, ...,  0.00223439,\n",
       "         0.01046928,  0.77538913],\n",
       "       [ 0.01365919,  0.00189228,  0.16177613, ...,  0.00223439,\n",
       "         0.01046928,  0.77538913],\n",
       "       [ 0.01365919,  0.00189228,  0.16177613, ...,  0.00223439,\n",
       "         0.01046928,  0.77538913]], dtype=float32)"
      ]
     },
     "execution_count": 311,
     "metadata": {},
     "output_type": "execute_result"
    }
   ],
   "source": [
    "y2_hat"
   ]
  }
 ],
 "metadata": {
  "kernelspec": {
   "display_name": "Python [conda env:screwdriving.lstm]",
   "language": "python",
   "name": "conda-env-screwdriving.lstm-py"
  },
  "language_info": {
   "codemirror_mode": {
    "name": "ipython",
    "version": 2
   },
   "file_extension": ".py",
   "mimetype": "text/x-python",
   "name": "python",
   "nbconvert_exporter": "python",
   "pygments_lexer": "ipython2",
   "version": "2.7.14"
  }
 },
 "nbformat": 4,
 "nbformat_minor": 2
}
