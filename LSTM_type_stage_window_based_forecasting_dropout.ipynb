{
 "cells": [
  {
   "cell_type": "markdown",
   "metadata": {},
   "source": [
    "# README\n",
    "\n",
    "* Tuning the network parameters"
   ]
  },
  {
   "cell_type": "code",
   "execution_count": 1,
   "metadata": {},
   "outputs": [
    {
     "name": "stderr",
     "output_type": "stream",
     "text": [
      "Using TensorFlow backend.\n"
     ]
    }
   ],
   "source": [
    "%matplotlib inline\n",
    "from keras.models import Sequential\n",
    "from keras.layers import LSTM, Dense\n",
    "from keras.models import model_from_json\n",
    "from keras.utils import to_categorical\n",
    "from keras.callbacks import ModelCheckpoint\n",
    "import numpy as np\n",
    "import pandas as pd\n",
    "import glob\n",
    "import matplotlib.pyplot as plt"
   ]
  },
  {
   "cell_type": "code",
   "execution_count": 2,
   "metadata": {},
   "outputs": [],
   "source": [
    "original_features=['scalar.fx', 'scalar.fy', 'scalar.fz','scalar.tx', 'scalar.ty','scalar.tz','scalar.current','scalar.ang_vel']"
   ]
  },
  {
   "cell_type": "markdown",
   "metadata": {},
   "source": [
    "# Load data"
   ]
  },
  {
   "cell_type": "code",
   "execution_count": 3,
   "metadata": {},
   "outputs": [
    {
     "name": "stdout",
     "output_type": "stream",
     "text": [
      "CPU times: user 13.5 s, sys: 676 ms, total: 14.2 s\n",
      "Wall time: 14.2 s\n"
     ]
    }
   ],
   "source": [
    "%%time\n",
    "dfs = [pd.read_csv(filename, sep=',',header=0) for filename in glob.glob(\"data/*.csv\")]"
   ]
  },
  {
   "cell_type": "markdown",
   "metadata": {},
   "source": [
    "## Get the longest and shortest sequences"
   ]
  },
  {
   "cell_type": "code",
   "execution_count": 4,
   "metadata": {},
   "outputs": [
    {
     "name": "stdout",
     "output_type": "stream",
     "text": [
      "shortest_len=535, longest_len=4479\n"
     ]
    }
   ],
   "source": [
    "longest_len = max(dfs, key=lambda df: df.shape[0]).shape[0]\n",
    "shortest_len = min(dfs, key=lambda df: df.shape[0]).shape[0]\n",
    "print(\"shortest_len={}, longest_len={}\".format( shortest_len, longest_len) )"
   ]
  },
  {
   "cell_type": "markdown",
   "metadata": {},
   "source": [
    "# Create windows\n",
    "\n",
    "* Windows are equal length comprising of N, eg. 32, time frames.\n",
    "* A wavelet is obtained by using a moving window of length N.\n",
    "* The beginning of the moving window starts M, e.g. 8, time frames behind the beginning of the previous window."
   ]
  },
  {
   "cell_type": "code",
   "execution_count": 5,
   "metadata": {},
   "outputs": [],
   "source": [
    "def rolling(df, original_features=original_features, \n",
    "            frames=32, steps=8, type_class='class.type', stage_class='class.stage'):\n",
    "    \"\"\"\n",
    "    df - dataframe\n",
    "    \"\"\"\n",
    "    starts = np.arange(0, len(df)-frames, steps)[:-1] # an array of start locations    \n",
    "    x = np.zeros((len(starts), frames, len(original_features)))\n",
    "    y = np.zeros((len(starts), 1))\n",
    "    y2 = np.zeros((len(starts), 1))\n",
    "    \n",
    "    for i in np.arange(len(starts)):\n",
    "        start = starts[i]\n",
    "        x[i] = df.iloc[start:start+frames].as_matrix(columns=original_features)\n",
    "        y[i] = df[type_class].iloc[start + steps]\n",
    "        y2[i] = df[stage_class].iloc[start + steps]\n",
    "\n",
    "    return x, y, y2"
   ]
  },
  {
   "cell_type": "code",
   "execution_count": 6,
   "metadata": {},
   "outputs": [],
   "source": [
    "def moving_windows(dfs, frames=32, steps=8):\n",
    "    \"\"\"split each observation to a tuple of X, Y, Y2 using a moving window\"\"\"\n",
    "\n",
    "    X=None; Y=None; Y2=None\n",
    "    for df in dfs:\n",
    "        x, y, y2 = rolling(df, original_features,frames, steps)\n",
    "        if X is None:\n",
    "            X = x.copy(); Y = y.copy(); Y2 = y2.copy();\n",
    "        else:\n",
    "            X = np.append(X, x, axis=0)\n",
    "            Y = np.append(Y, y, axis=0)\n",
    "            Y2= np.append(Y2, y2, axis=0)\n",
    "    return X, Y, Y2"
   ]
  },
  {
   "cell_type": "markdown",
   "metadata": {},
   "source": [
    "## save or load window-based data"
   ]
  },
  {
   "cell_type": "code",
   "execution_count": 3,
   "metadata": {
    "scrolled": true
   },
   "outputs": [
    {
     "name": "stdout",
     "output_type": "stream",
     "text": [
      "CPU times: user 4.2 s, sys: 243 ms, total: 4.44 s\n",
      "Wall time: 4.44 s\n"
     ]
    }
   ],
   "source": [
    "%%time\n",
    "frames = 32\n",
    "steps = 8\n",
    "\n",
    "import os.path\n",
    "file_path = 'data_win/f32s8.npz'\n",
    "if os.path.exists(file_path):\n",
    "    loaded = np.load(file_path)\n",
    "    X = loaded['X']\n",
    "    Y = loaded['Y']\n",
    "    Y2 = loaded['Y2']\n",
    "else:\n",
    "    X, Y, Y2 = moving_windows(dfs, frames, steps)\n",
    "    np.savez_compressed(file_path, X=X, Y=Y, Y2=Y2)"
   ]
  },
  {
   "cell_type": "markdown",
   "metadata": {},
   "source": [
    "#### Plot a histogram of types"
   ]
  },
  {
   "cell_type": "code",
   "execution_count": 8,
   "metadata": {},
   "outputs": [
    {
     "data": {
      "text/plain": [
       "(array([      0.,  433720.,   82458.,   21594.,    3516.,    2264.,\n",
       "           6397.,    3243.]),\n",
       " array([0, 1, 2, 3, 4, 5, 6, 7, 8]),\n",
       " <a list of 8 Patch objects>)"
      ]
     },
     "execution_count": 8,
     "metadata": {},
     "output_type": "execute_result"
    },
    {
     "data": {
      "image/png": "[encoded data removed]",
      "text/plain": [
       "<matplotlib.figure.Figure at 0x7fa57e5c4f10>"
      ]
     },
     "metadata": {},
     "output_type": "display_data"
    }
   ],
   "source": [
    "plt.hist(Y, bins=np.arange(len(np.unique(Y))+2), rwidth=.7, align='mid')"
   ]
  },
  {
   "cell_type": "code",
   "execution_count": 9,
   "metadata": {},
   "outputs": [
    {
     "data": {
      "text/plain": [
       "array([ 1.,  2.,  3.,  4.,  5.,  6.,  7.])"
      ]
     },
     "execution_count": 9,
     "metadata": {},
     "output_type": "execute_result"
    }
   ],
   "source": [
    "np.unique(Y)"
   ]
  },
  {
   "cell_type": "markdown",
   "metadata": {},
   "source": [
    "#### Plot a histogram of stages"
   ]
  },
  {
   "cell_type": "code",
   "execution_count": 10,
   "metadata": {},
   "outputs": [
    {
     "data": {
      "text/plain": [
       "(array([  42954.,   24250.,   30095.,   76401.,  322035.,   10290.,\n",
       "           2103.,     952.,    2786.,   41326.]),\n",
       " array([ 0,  1,  2,  3,  4,  5,  6,  7,  8,  9, 10]),\n",
       " <a list of 10 Patch objects>)"
      ]
     },
     "execution_count": 10,
     "metadata": {},
     "output_type": "execute_result"
    },
    {
     "data": {
      "image/png": "[encoded data removed]",
      "text/plain": [
       "<matplotlib.figure.Figure at 0x7fa4f9782550>"
      ]
     },
     "metadata": {},
     "output_type": "display_data"
    }
   ],
   "source": [
    "plt.hist(Y2, bins=np.arange(len(np.unique(Y2))+1), rwidth=.7, align='mid')"
   ]
  },
  {
   "cell_type": "code",
   "execution_count": 4,
   "metadata": {},
   "outputs": [
    {
     "data": {
      "text/plain": [
       "array([ 0.,  1.,  2.,  3.,  4.,  5.,  6.,  7.,  8.,  9.])"
      ]
     },
     "execution_count": 4,
     "metadata": {},
     "output_type": "execute_result"
    }
   ],
   "source": [
    "np.unique(Y2)"
   ]
  },
  {
   "cell_type": "markdown",
   "metadata": {},
   "source": [
    "# One hot encoding of dependent variables"
   ]
  },
  {
   "cell_type": "code",
   "execution_count": 5,
   "metadata": {
    "scrolled": true
   },
   "outputs": [
    {
     "data": {
      "text/plain": [
       "(553192, 7)"
      ]
     },
     "execution_count": 5,
     "metadata": {},
     "output_type": "execute_result"
    }
   ],
   "source": [
    "offset = 1\n",
    "num_classes = len(np.unique(Y))\n",
    "Y_encoded=to_categorical(Y-offset, num_classes=num_classes)\n",
    "Y_encoded.shape"
   ]
  },
  {
   "cell_type": "code",
   "execution_count": 6,
   "metadata": {},
   "outputs": [
    {
     "data": {
      "text/plain": [
       "(553192, 10)"
      ]
     },
     "execution_count": 6,
     "metadata": {},
     "output_type": "execute_result"
    }
   ],
   "source": [
    "offset = 0\n",
    "num_classes = len(np.unique(Y2))\n",
    "Y2_encoded=to_categorical(Y2, num_classes=num_classes)\n",
    "Y2_encoded.shape"
   ]
  },
  {
   "cell_type": "markdown",
   "metadata": {},
   "source": [
    "# Split the data to train, validation and test\n",
    "\n",
    "* train = 60%\n",
    "* validation = 20%\n",
    "* test = 20%"
   ]
  },
  {
   "cell_type": "code",
   "execution_count": 7,
   "metadata": {
    "scrolled": true
   },
   "outputs": [
    {
     "name": "stdout",
     "output_type": "stream",
     "text": [
      "((331915, 32, 8), (331915, 7), (331915, 10))\n",
      "((110638, 32, 8), (110638, 7), (110638, 10))\n",
      "((110639, 32, 8), (110639, 7), (110639, 10))\n"
     ]
    }
   ],
   "source": [
    "x_train, x_validate, x_test = np.split(X, [int(.6*len(X)), int(.8*len(X))])\n",
    "y_train, y_validate, y_test = np.split(Y_encoded, [int(.6*len(Y_encoded)), int(.8*len(Y_encoded))])\n",
    "y2_train, y2_validate, y2_test = np.split(Y2_encoded, [int(.6*len(Y2_encoded)), int(.8*len(Y2_encoded))])\n",
    "\n",
    "print (x_train.shape, y_train.shape, y2_train.shape)\n",
    "print (x_validate.shape, y_validate.shape, y2_validate.shape)\n",
    "print (x_test.shape, y_test.shape, y2_test.shape)"
   ]
  },
  {
   "cell_type": "markdown",
   "metadata": {},
   "source": [
    "### Histogram of classes in training data"
   ]
  },
  {
   "cell_type": "code",
   "execution_count": 15,
   "metadata": {},
   "outputs": [
    {
     "data": {
      "text/plain": [
       "(array([ 259741.,   47704.,   13477.,    2275.,    1808.,    4118.,    2792.]),\n",
       " array([0, 1, 2, 3, 4, 5, 6, 7]),\n",
       " <a list of 7 Patch objects>)"
      ]
     },
     "execution_count": 15,
     "metadata": {},
     "output_type": "execute_result"
    },
    {
     "data": {
      "image/png": "[encoded data removed]",
      "text/plain": [
       "<matplotlib.figure.Figure at 0x7fa4f4ed7310>"
      ]
     },
     "metadata": {},
     "output_type": "display_data"
    }
   ],
   "source": [
    "labels=np.argmax(y_train, axis=1)\n",
    "plt.hist(labels, bins=np.arange(len(np.unique(labels))+1), rwidth=.7, align='mid')"
   ]
  },
  {
   "cell_type": "code",
   "execution_count": 44,
   "metadata": {},
   "outputs": [
    {
     "data": {
      "text/plain": [
       "(array([  25840.,   15718.,   18270.,   43892.,  193170.,    6269.,\n",
       "           1670.,     605.,    1739.,   24742.]),\n",
       " array([ 0,  1,  2,  3,  4,  5,  6,  7,  8,  9, 10]),\n",
       " <a list of 10 Patch objects>)"
      ]
     },
     "execution_count": 44,
     "metadata": {},
     "output_type": "execute_result"
    },
    {
     "data": {
      "image/png": "[encoded data removed]",
      "text/plain": [
       "<matplotlib.figure.Figure at 0x7fa4d1378cd0>"
      ]
     },
     "metadata": {},
     "output_type": "display_data"
    }
   ],
   "source": [
    "labels=np.argmax(y2_train, axis=1)\n",
    "plt.hist(labels, bins=np.arange(len(np.unique(labels))+1), rwidth=.7, align='mid')"
   ]
  },
  {
   "cell_type": "markdown",
   "metadata": {},
   "source": [
    "# Train a type classification model with LSTM"
   ]
  },
  {
   "cell_type": "code",
   "execution_count": 14,
   "metadata": {
    "scrolled": true
   },
   "outputs": [
    {
     "name": "stdout",
     "output_type": "stream",
     "text": [
      "Train on 331915 samples, validate on 110638 samples\n",
      "Epoch 1/7\n",
      "331904/331915 [============================>.] - ETA: 0s - loss: 0.3952 - acc: 0.8741Epoch 00001: val_acc improved from -inf to 0.91530, saving model to models/type_lstm_v4.h5\n",
      "331915/331915 [==============================] - 388s 1ms/step - loss: 0.3952 - acc: 0.8741 - val_loss: 0.3359 - val_acc: 0.9153\n",
      "Epoch 2/7\n",
      "331904/331915 [============================>.] - ETA: 0s - loss: 0.2984 - acc: 0.9087Epoch 00002: val_acc did not improve\n",
      "331915/331915 [==============================] - 382s 1ms/step - loss: 0.2984 - acc: 0.9088 - val_loss: 0.3892 - val_acc: 0.8923\n",
      "Epoch 3/7\n",
      "331904/331915 [============================>.] - ETA: 0s - loss: 0.2624 - acc: 0.9198Epoch 00003: val_acc did not improve\n",
      "331915/331915 [==============================] - 387s 1ms/step - loss: 0.2624 - acc: 0.9198 - val_loss: 0.3561 - val_acc: 0.9064\n",
      "Epoch 4/7\n",
      "331904/331915 [============================>.] - ETA: 0s - loss: 0.2411 - acc: 0.9264Epoch 00004: val_acc did not improve\n",
      "331915/331915 [==============================] - 385s 1ms/step - loss: 0.2411 - acc: 0.9264 - val_loss: 0.3810 - val_acc: 0.9057\n",
      "Epoch 5/7\n",
      "331904/331915 [============================>.] - ETA: 0s - loss: 0.2273 - acc: 0.9310Epoch 00005: val_acc improved from 0.91530 to 0.92052, saving model to models/type_lstm_v4.h5\n",
      "331915/331915 [==============================] - 395s 1ms/step - loss: 0.2273 - acc: 0.9310 - val_loss: 0.3540 - val_acc: 0.9205\n",
      "Epoch 6/7\n",
      "331904/331915 [============================>.] - ETA: 0s - loss: 0.2205 - acc: 0.9334Epoch 00006: val_acc improved from 0.92052 to 0.92109, saving model to models/type_lstm_v4.h5\n",
      "331915/331915 [==============================] - 388s 1ms/step - loss: 0.2205 - acc: 0.9334 - val_loss: 0.3157 - val_acc: 0.9211\n",
      "Epoch 7/7\n",
      "331904/331915 [============================>.] - ETA: 0s - loss: 0.2120 - acc: 0.9358Epoch 00007: val_acc did not improve\n",
      "331915/331915 [==============================] - 387s 1ms/step - loss: 0.2120 - acc: 0.9358 - val_loss: 0.3762 - val_acc: 0.9150\n",
      "CPU times: user 1h 7min 45s, sys: 4min 18s, total: 1h 12min 4s\n",
      "Wall time: 45min 12s\n"
     ]
    }
   ],
   "source": [
    "%%time\n",
    "\n",
    "timesteps = x_train.shape[1]\n",
    "data_dim = x_train.shape[2]\n",
    "num_epochs = 7\n",
    "batch_size = 64\n",
    "num_classes = y_train.shape[1]\n",
    "\n",
    "layers = [LSTM(64, return_sequences=True, dropout=0.2,\n",
    "               input_shape=(timesteps, data_dim)), \n",
    "         LSTM(64, return_sequences=True),\n",
    "         LSTM(64),\n",
    "         Dense(num_classes, activation='softmax')]\n",
    "\n",
    "# expected input data shape: (batch_size, timesteps, data_dim)\n",
    "model = Sequential(layers)\n",
    "\n",
    "model.compile(loss='categorical_crossentropy',\n",
    "              optimizer='rmsprop',\n",
    "              metrics=['accuracy'])\n",
    "\n",
    "# checkpoint\n",
    "filepath=\"models/type_lstm_v4.h5\"\n",
    "checkpoint = ModelCheckpoint(filepath, monitor='val_acc', verbose=1, save_best_only=True, mode='max')\n",
    "callbacks_list = [checkpoint]\n",
    "\n",
    "history = model.fit(x_train, y_train,\n",
    "                    batch_size=batch_size, epochs=num_epochs,\n",
    "                    validation_data=(x_validate, y_validate),\n",
    "                    callbacks=callbacks_list)"
   ]
  },
  {
   "cell_type": "markdown",
   "metadata": {},
   "source": [
    "## View training history"
   ]
  },
  {
   "cell_type": "code",
   "execution_count": 16,
   "metadata": {},
   "outputs": [],
   "source": [
    "def plot_history(history):\n",
    "    # summarize history for accuracy\n",
    "    plt.plot(history.history['acc'])\n",
    "    plt.plot(history.history['val_acc'])\n",
    "    plt.title('model accuracy')\n",
    "    plt.ylabel('accuracy')\n",
    "    plt.xlabel('epoch')\n",
    "    plt.legend(['train', 'validate'], loc='upper left')\n",
    "    plt.show()\n",
    "    \n",
    "    # summarize history for loss\n",
    "    plt.plot(history.history['loss'])\n",
    "    plt.plot(history.history['val_loss'])\n",
    "    plt.title('model loss')\n",
    "    plt.ylabel('loss')\n",
    "    plt.xlabel('epoch')\n",
    "    plt.legend(['train', 'validate'], loc='upper left')\n",
    "    plt.show()"
   ]
  },
  {
   "cell_type": "code",
   "execution_count": 17,
   "metadata": {},
   "outputs": [
    {
     "data": {
      "image/png": "[encoded data removed]",
      "text/plain": [
       "<matplotlib.figure.Figure at 0x7f1094b2a690>"
      ]
     },
     "metadata": {},
     "output_type": "display_data"
    },
    {
     "data": {
      "image/png": "[encoded data removed]",
      "text/plain": [
       "<matplotlib.figure.Figure at 0x7f0f517d8fd0>"
      ]
     },
     "metadata": {},
     "output_type": "display_data"
    }
   ],
   "source": [
    "plot_history(history)"
   ]
  },
  {
   "cell_type": "markdown",
   "metadata": {},
   "source": [
    "## Save the model\n",
    "include the model and its weights"
   ]
  },
  {
   "cell_type": "code",
   "execution_count": 18,
   "metadata": {},
   "outputs": [],
   "source": [
    "def save_model(model, model_filename=\"models/type_lstm_v2.json\", weights_file_name=None):\n",
    "    # serialize model to JSON\n",
    "    model_json = model.to_json()\n",
    "    with open(model_filename, \"w\") as json_file:\n",
    "        json_file.write(model_json)\n",
    "    print(\"Saved the model to disk\")    \n",
    "    \n",
    "    # serialize weights to HDF5\n",
    "    if weights_file_name is not None:\n",
    "        model.save_weights(weights_file_name)\n",
    "        print(\"Saved the model weights to disk\")"
   ]
  },
  {
   "cell_type": "code",
   "execution_count": 20,
   "metadata": {},
   "outputs": [
    {
     "name": "stdout",
     "output_type": "stream",
     "text": [
      "Saved the model to disk\n"
     ]
    }
   ],
   "source": [
    "save_model(model, \"models/type_lstm_v4.json\")"
   ]
  },
  {
   "cell_type": "markdown",
   "metadata": {},
   "source": [
    "## Use the saved model to predict on new data"
   ]
  },
  {
   "cell_type": "code",
   "execution_count": 21,
   "metadata": {},
   "outputs": [],
   "source": [
    "def load_model(model_filename='models/type_lstm_v2.json', weights_filename=\"models/type_lstm_v2.h5\"):\n",
    "    # load json and create model\n",
    "    json_file = open(model_filename, 'r')\n",
    "    loaded_model_json = json_file.read()\n",
    "    json_file.close()\n",
    "    loaded_model = model_from_json(loaded_model_json)\n",
    "    # load weights into new model\n",
    "    loaded_model.load_weights(weights_filename)\n",
    "    print(\"Loaded the model from disk\")\n",
    "    \n",
    "    return loaded_model"
   ]
  },
  {
   "cell_type": "code",
   "execution_count": 23,
   "metadata": {},
   "outputs": [
    {
     "name": "stdout",
     "output_type": "stream",
     "text": [
      "Loaded the model from disk\n"
     ]
    }
   ],
   "source": [
    "model = load_model('models/type_lstm_v4.json', \"models/type_lstm_v4.h5\")"
   ]
  },
  {
   "cell_type": "markdown",
   "metadata": {},
   "source": [
    "## We need to compile the model before use it"
   ]
  },
  {
   "cell_type": "code",
   "execution_count": 24,
   "metadata": {},
   "outputs": [],
   "source": [
    "model.compile(loss='categorical_crossentropy',\n",
    "              optimizer='rmsprop',\n",
    "              metrics=['accuracy'])"
   ]
  },
  {
   "cell_type": "markdown",
   "metadata": {},
   "source": [
    "## Evaluation"
   ]
  },
  {
   "cell_type": "markdown",
   "metadata": {},
   "source": [
    "display labels for the scalar outputs"
   ]
  },
  {
   "cell_type": "code",
   "execution_count": 25,
   "metadata": {},
   "outputs": [
    {
     "data": {
      "text/plain": [
       "['loss', 'acc']"
      ]
     },
     "execution_count": 25,
     "metadata": {},
     "output_type": "execute_result"
    }
   ],
   "source": [
    "model.metrics_names"
   ]
  },
  {
   "cell_type": "code",
   "execution_count": 26,
   "metadata": {},
   "outputs": [
    {
     "name": "stdout",
     "output_type": "stream",
     "text": [
      "110639/110639 [==============================] - 31s 282us/step\n"
     ]
    }
   ],
   "source": [
    "score = model.evaluate(x_test, y_test, batch_size=64)"
   ]
  },
  {
   "cell_type": "code",
   "execution_count": 27,
   "metadata": {},
   "outputs": [
    {
     "data": {
      "text/plain": [
       "[0.38147048888775953, 0.89647411852963244]"
      ]
     },
     "execution_count": 27,
     "metadata": {},
     "output_type": "execute_result"
    }
   ],
   "source": [
    "score"
   ]
  },
  {
   "cell_type": "markdown",
   "metadata": {},
   "source": [
    "## Predict\n",
    "\n",
    "**Remember** The classes are 0 to 6 instead of 1 to 7."
   ]
  },
  {
   "cell_type": "code",
   "execution_count": 28,
   "metadata": {},
   "outputs": [
    {
     "name": "stdout",
     "output_type": "stream",
     "text": [
      "CPU times: user 1min 1s, sys: 1.06 s, total: 1min 2s\n",
      "Wall time: 58.1 s\n"
     ]
    }
   ],
   "source": [
    "%%time\n",
    "y_hat = model.predict(x_test)"
   ]
  },
  {
   "cell_type": "code",
   "execution_count": 29,
   "metadata": {},
   "outputs": [
    {
     "data": {
      "text/plain": [
       "(110639, 32, 8)"
      ]
     },
     "execution_count": 29,
     "metadata": {},
     "output_type": "execute_result"
    }
   ],
   "source": [
    "x_test.shape"
   ]
  },
  {
   "cell_type": "markdown",
   "metadata": {},
   "source": [
    "### Prediction results are the probability of each class"
   ]
  },
  {
   "cell_type": "code",
   "execution_count": 30,
   "metadata": {},
   "outputs": [
    {
     "data": {
      "text/plain": [
       "(110639, 7)"
      ]
     },
     "execution_count": 30,
     "metadata": {},
     "output_type": "execute_result"
    }
   ],
   "source": [
    "y_hat.shape"
   ]
  },
  {
   "cell_type": "code",
   "execution_count": 31,
   "metadata": {},
   "outputs": [
    {
     "data": {
      "text/plain": [
       "array([[  1.19457826e-01,   8.77557039e-01,   1.55393814e-03, ...,\n",
       "          1.50985898e-05,   1.27468852e-03,   9.81507619e-05],\n",
       "       [  1.21533349e-01,   8.75213206e-01,   1.64178142e-03, ...,\n",
       "          1.20239192e-05,   1.46351394e-03,   9.42876213e-05],\n",
       "       [  4.75936085e-02,   9.50170100e-01,   1.16700714e-03, ...,\n",
       "          3.99459495e-05,   9.02160129e-04,   1.03273145e-04],\n",
       "       ..., \n",
       "       [  9.90625381e-01,   5.08881640e-04,   1.47048943e-03, ...,\n",
       "          3.75927343e-08,   2.66320494e-05,   3.51313502e-05],\n",
       "       [  9.90583301e-01,   5.04449941e-04,   1.46508974e-03, ...,\n",
       "          3.75639040e-08,   2.65817944e-05,   3.51804847e-05],\n",
       "       [  9.90534723e-01,   5.01425646e-04,   1.46006839e-03, ...,\n",
       "          3.77873377e-08,   2.66333718e-05,   3.53126015e-05]], dtype=float32)"
      ]
     },
     "execution_count": 31,
     "metadata": {},
     "output_type": "execute_result"
    }
   ],
   "source": [
    "y_hat"
   ]
  },
  {
   "cell_type": "markdown",
   "metadata": {},
   "source": [
    "# Train a stage classification model with LSTM"
   ]
  },
  {
   "cell_type": "code",
   "execution_count": 32,
   "metadata": {
    "scrolled": true
   },
   "outputs": [
    {
     "name": "stdout",
     "output_type": "stream",
     "text": [
      "Train on 331915 samples, validate on 110638 samples\n",
      "Epoch 1/10\n",
      "331904/331915 [============================>.] - ETA: 0s - loss: 0.4442 - acc: 0.8596Epoch 00001: val_acc improved from -inf to 0.91753, saving model to models/stage_lstm_v4.h5\n",
      "331915/331915 [==============================] - 390s 1ms/step - loss: 0.4441 - acc: 0.8596 - val_loss: 0.3109 - val_acc: 0.9175\n",
      "Epoch 2/10\n",
      "331904/331915 [============================>.] - ETA: 0s - loss: 0.2608 - acc: 0.9167Epoch 00002: val_acc improved from 0.91753 to 0.92326, saving model to models/stage_lstm_v4.h5\n",
      "331915/331915 [==============================] - 388s 1ms/step - loss: 0.2608 - acc: 0.9167 - val_loss: 0.2770 - val_acc: 0.9233\n",
      "Epoch 3/10\n",
      "331904/331915 [============================>.] - ETA: 0s - loss: 0.2055 - acc: 0.9329Epoch 00003: val_acc did not improve\n",
      "331915/331915 [==============================] - 388s 1ms/step - loss: 0.2055 - acc: 0.9329 - val_loss: 0.2604 - val_acc: 0.9155\n",
      "Epoch 4/10\n",
      "331904/331915 [============================>.] - ETA: 0s - loss: 0.1747 - acc: 0.9423Epoch 00004: val_acc did not improve\n",
      "331915/331915 [==============================] - 387s 1ms/step - loss: 0.1747 - acc: 0.9423 - val_loss: 0.2847 - val_acc: 0.9150\n",
      "Epoch 5/10\n",
      "331904/331915 [============================>.] - ETA: 0s - loss: 0.1562 - acc: 0.9482Epoch 00005: val_acc did not improve\n",
      "331915/331915 [==============================] - 387s 1ms/step - loss: 0.1562 - acc: 0.9482 - val_loss: 0.3193 - val_acc: 0.9103\n",
      "Epoch 6/10\n",
      "331904/331915 [============================>.] - ETA: 0s - loss: 0.1429 - acc: 0.9531Epoch 00006: val_acc improved from 0.92326 to 0.92533, saving model to models/stage_lstm_v4.h5\n",
      "331915/331915 [==============================] - 387s 1ms/step - loss: 0.1429 - acc: 0.9531 - val_loss: 0.2792 - val_acc: 0.9253\n",
      "Epoch 7/10\n",
      "331904/331915 [============================>.] - ETA: 0s - loss: 0.1343 - acc: 0.9557Epoch 00007: val_acc did not improve\n",
      "331915/331915 [==============================] - 387s 1ms/step - loss: 0.1343 - acc: 0.9557 - val_loss: 0.2828 - val_acc: 0.9253\n",
      "Epoch 8/10\n",
      "331904/331915 [============================>.] - ETA: 0s - loss: 0.1290 - acc: 0.9571Epoch 00008: val_acc improved from 0.92533 to 0.92929, saving model to models/stage_lstm_v4.h5\n",
      "331915/331915 [==============================] - 389s 1ms/step - loss: 0.1290 - acc: 0.9571 - val_loss: 0.2943 - val_acc: 0.9293\n",
      "Epoch 9/10\n",
      "331904/331915 [============================>.] - ETA: 0s - loss: 0.1243 - acc: 0.9586Epoch 00009: val_acc did not improve\n",
      "331915/331915 [==============================] - 390s 1ms/step - loss: 0.1243 - acc: 0.9586 - val_loss: 0.3340 - val_acc: 0.9158\n",
      "Epoch 10/10\n",
      "331904/331915 [============================>.] - ETA: 0s - loss: 0.1218 - acc: 0.9601Epoch 00010: val_acc did not improve\n",
      "331915/331915 [==============================] - 390s 1ms/step - loss: 0.1218 - acc: 0.9601 - val_loss: 0.3486 - val_acc: 0.9126\n",
      "CPU times: user 1h 36min 47s, sys: 6min 6s, total: 1h 42min 54s\n",
      "Wall time: 1h 4min 43s\n"
     ]
    }
   ],
   "source": [
    "%%time\n",
    "\n",
    "timesteps = x_train.shape[1]\n",
    "data_dim = x_train.shape[2]\n",
    "num_epochs = 10\n",
    "batch_size = 64\n",
    "num_classes = y2_train.shape[1]\n",
    "\n",
    "layers = [LSTM(batch_size, return_sequences=True, dropout=0.2,\n",
    "               input_shape=(timesteps, data_dim)), \n",
    "         LSTM(batch_size, return_sequences=True),\n",
    "         LSTM(batch_size),\n",
    "         Dense(num_classes, activation='softmax')]\n",
    "\n",
    "# expected input data shape: (batch_size, timesteps, data_dim)\n",
    "model = Sequential(layers)\n",
    "\n",
    "model.compile(loss='categorical_crossentropy',\n",
    "              optimizer='rmsprop',\n",
    "              metrics=['accuracy'])\n",
    "\n",
    "# checkpoint\n",
    "filepath=\"models/stage_lstm_v4.h5\"\n",
    "checkpoint = ModelCheckpoint(filepath, monitor='val_acc', verbose=1, save_best_only=True, mode='max')\n",
    "callbacks_list = [checkpoint]\n",
    "\n",
    "history = model.fit(x_train, y2_train,\n",
    "                    batch_size=batch_size, epochs=num_epochs,\n",
    "                    validation_data=(x_validate, y2_validate),\n",
    "                    callbacks=callbacks_list)"
   ]
  },
  {
   "cell_type": "markdown",
   "metadata": {},
   "source": [
    "## View training history"
   ]
  },
  {
   "cell_type": "code",
   "execution_count": 44,
   "metadata": {},
   "outputs": [
    {
     "data": {
      "image/png": "[encoded data removed]",
      "text/plain": [
       "<matplotlib.figure.Figure at 0x7f0f496a3790>"
      ]
     },
     "metadata": {},
     "output_type": "display_data"
    },
    {
     "data": {
      "image/png": "[encoded data removed]",
      "text/plain": [
       "<matplotlib.figure.Figure at 0x7f0f47cb6d10>"
      ]
     },
     "metadata": {},
     "output_type": "display_data"
    }
   ],
   "source": [
    "plot_history(history)"
   ]
  },
  {
   "cell_type": "markdown",
   "metadata": {},
   "source": [
    "## Save the model\n",
    "include the model and its weights"
   ]
  },
  {
   "cell_type": "code",
   "execution_count": 45,
   "metadata": {},
   "outputs": [
    {
     "name": "stdout",
     "output_type": "stream",
     "text": [
      "Saved the model to disk\n"
     ]
    }
   ],
   "source": [
    "save_model(model, \"models/stage_lstm_v4.json\")"
   ]
  },
  {
   "cell_type": "markdown",
   "metadata": {},
   "source": [
    "## Use the saved model to predict on new data"
   ]
  },
  {
   "cell_type": "code",
   "execution_count": 46,
   "metadata": {
    "scrolled": true
   },
   "outputs": [
    {
     "name": "stdout",
     "output_type": "stream",
     "text": [
      "Loaded the model from disk\n"
     ]
    }
   ],
   "source": [
    "model = load_model('models/stage_lstm_v4.json', \"models/stage_lstm_v4.h5\")"
   ]
  },
  {
   "cell_type": "markdown",
   "metadata": {},
   "source": [
    "## We need to compile the model before use it"
   ]
  },
  {
   "cell_type": "code",
   "execution_count": 47,
   "metadata": {},
   "outputs": [],
   "source": [
    "model.compile(loss='categorical_crossentropy',\n",
    "              optimizer='rmsprop',\n",
    "              metrics=['accuracy'])"
   ]
  },
  {
   "cell_type": "markdown",
   "metadata": {},
   "source": [
    "## Evaluation"
   ]
  },
  {
   "cell_type": "markdown",
   "metadata": {},
   "source": [
    "display labels for the scalar outputs"
   ]
  },
  {
   "cell_type": "code",
   "execution_count": 48,
   "metadata": {},
   "outputs": [
    {
     "data": {
      "text/plain": [
       "['loss', 'acc']"
      ]
     },
     "execution_count": 48,
     "metadata": {},
     "output_type": "execute_result"
    }
   ],
   "source": [
    "model.metrics_names"
   ]
  },
  {
   "cell_type": "code",
   "execution_count": 49,
   "metadata": {},
   "outputs": [
    {
     "name": "stdout",
     "output_type": "stream",
     "text": [
      "110639/110639 [==============================] - 32s 285us/step\n"
     ]
    }
   ],
   "source": [
    "score = model.evaluate(x_test, y2_test, batch_size=64)"
   ]
  },
  {
   "cell_type": "code",
   "execution_count": 50,
   "metadata": {},
   "outputs": [
    {
     "data": {
      "text/plain": [
       "[0.33510705966009391, 0.91835609505432314]"
      ]
     },
     "execution_count": 50,
     "metadata": {},
     "output_type": "execute_result"
    }
   ],
   "source": [
    "score"
   ]
  },
  {
   "cell_type": "markdown",
   "metadata": {},
   "source": [
    "## Predict"
   ]
  },
  {
   "cell_type": "code",
   "execution_count": 51,
   "metadata": {},
   "outputs": [
    {
     "name": "stdout",
     "output_type": "stream",
     "text": [
      "CPU times: user 1min, sys: 993 ms, total: 1min 1s\n",
      "Wall time: 56.6 s\n"
     ]
    }
   ],
   "source": [
    "%%time\n",
    "y_hat = model.predict(x_test)"
   ]
  },
  {
   "cell_type": "code",
   "execution_count": 52,
   "metadata": {},
   "outputs": [
    {
     "data": {
      "text/plain": [
       "(110639, 32, 8)"
      ]
     },
     "execution_count": 52,
     "metadata": {},
     "output_type": "execute_result"
    }
   ],
   "source": [
    "x_test.shape"
   ]
  },
  {
   "cell_type": "markdown",
   "metadata": {},
   "source": [
    "### Prediction results are the probability of each class"
   ]
  },
  {
   "cell_type": "code",
   "execution_count": 53,
   "metadata": {},
   "outputs": [
    {
     "data": {
      "text/plain": [
       "(110639, 10)"
      ]
     },
     "execution_count": 53,
     "metadata": {},
     "output_type": "execute_result"
    }
   ],
   "source": [
    "y_hat.shape"
   ]
  },
  {
   "cell_type": "code",
   "execution_count": 54,
   "metadata": {},
   "outputs": [
    {
     "data": {
      "text/plain": [
       "array([[  2.03429852e-04,   7.06538267e-05,   5.46302763e-05, ...,\n",
       "          6.49701235e-08,   5.21942929e-05,   1.80770585e-03],\n",
       "       [  2.99424311e-04,   9.67617307e-05,   8.76517588e-05, ...,\n",
       "          2.89129858e-08,   1.41460741e-05,   2.37101642e-03],\n",
       "       [  1.97767193e-04,   9.27789879e-05,   5.56157938e-05, ...,\n",
       "          1.54798386e-07,   9.70367400e-05,   2.69811554e-03],\n",
       "       ..., \n",
       "       [  3.94886265e-05,   3.19437786e-05,   3.70179373e-06, ...,\n",
       "          1.93347693e-09,   3.06657300e-09,   9.99889255e-01],\n",
       "       [  3.84801060e-05,   3.24358080e-05,   3.76565822e-06, ...,\n",
       "          1.89825133e-09,   3.06724579e-09,   9.99889255e-01],\n",
       "       [  3.77324359e-05,   3.21942462e-05,   3.76529397e-06, ...,\n",
       "          1.78756110e-09,   2.91652325e-09,   9.99889851e-01]], dtype=float32)"
      ]
     },
     "execution_count": 54,
     "metadata": {},
     "output_type": "execute_result"
    }
   ],
   "source": [
    "y_hat"
   ]
  }
 ],
 "metadata": {
  "kernelspec": {
   "display_name": "Python [conda env:screwdriving.lstm]",
   "language": "python",
   "name": "conda-env-screwdriving.lstm-py"
  },
  "language_info": {
   "codemirror_mode": {
    "name": "ipython",
    "version": 2
   },
   "file_extension": ".py",
   "mimetype": "text/x-python",
   "name": "python",
   "nbconvert_exporter": "python",
   "pygments_lexer": "ipython2",
   "version": "2.7.14"
  }
 },
 "nbformat": 4,
 "nbformat_minor": 2
}
